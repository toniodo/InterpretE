{
 "cells": [
  {
   "cell_type": "markdown",
   "metadata": {},
   "source": [
    "# Person analysis: relations playsFor and wasBornIn"
   ]
  },
  {
   "cell_type": "code",
   "execution_count": 1,
   "metadata": {
    "execution": {
     "iopub.execute_input": "2024-05-12T21:16:28.843628Z",
     "iopub.status.busy": "2024-05-12T21:16:28.843354Z",
     "iopub.status.idle": "2024-05-12T21:17:21.592825Z",
     "shell.execute_reply": "2024-05-12T21:17:21.591784Z"
    }
   },
   "outputs": [],
   "source": [
    "from sklearn.svm import SVC\n",
    "from sklearn.model_selection import GridSearchCV , train_test_split\n",
    "from sklearn.preprocessing import StandardScaler\n",
    "from sklearn.metrics import cohen_kappa_score, make_scorer\n",
    "import numpy as np\n",
    "import pandas as pd\n",
    "from tqdm import tqdm\n",
    "from copy import deepcopy\n",
    "import torch\n",
    "from kge.util.io import load_checkpoint"
   ]
  },
  {
   "cell_type": "markdown",
   "metadata": {},
   "source": [
    "## Load entities with their embbedings"
   ]
  },
  {
   "cell_type": "code",
   "execution_count": 2,
   "metadata": {
    "execution": {
     "iopub.execute_input": "2024-05-12T21:17:21.597164Z",
     "iopub.status.busy": "2024-05-12T21:17:21.596720Z",
     "iopub.status.idle": "2024-05-12T21:17:22.020965Z",
     "shell.execute_reply": "2024-05-12T21:17:22.019997Z"
    }
   },
   "outputs": [],
   "source": [
    "# Load entity type Dataframe\n",
    "entities_df = pd.read_csv('data/entities_types.csv', sep=',', header=0)\n",
    "\n",
    "#load YAGO Embeddings\n",
    "checkpoint = load_checkpoint('../embeddings/yago3-10-complex.pt') # Change the model here\n",
    "model = checkpoint[\"model\"]\n",
    "tensor_embed: torch.Tensor = dict(checkpoint['model'][0])['_entity_embedder._embeddings.weight']\n",
    "all_arrays = tensor_embed.numpy()"
   ]
  },
  {
   "cell_type": "markdown",
   "metadata": {},
   "source": [
    "## Load dataset"
   ]
  },
  {
   "cell_type": "code",
   "execution_count": 3,
   "metadata": {
    "execution": {
     "iopub.execute_input": "2024-05-12T21:17:22.024530Z",
     "iopub.status.busy": "2024-05-12T21:17:22.024371Z",
     "iopub.status.idle": "2024-05-12T21:17:22.854888Z",
     "shell.execute_reply": "2024-05-12T21:17:22.854092Z"
    }
   },
   "outputs": [
    {
     "name": "stdout",
     "output_type": "stream",
     "text": [
      "Loading triples...\n"
     ]
    }
   ],
   "source": [
    "# Load dataset to get the relations\n",
    "print(\"Loading triples...\")\n",
    "GLOBAL_PATH = \"data/\"\n",
    "NAME_SUBGRAPH = [\"train\", \"test\", \"valid\"]\n",
    "cols_name = [\"head\", \"relation\", \"tail\"]\n",
    "triples_df = pd.concat(\n",
    "    (pd.read_csv(\n",
    "        GLOBAL_PATH + f + '.txt',\n",
    "        sep=\"\\t\",\n",
    "        names=cols_name) for f in NAME_SUBGRAPH),\n",
    "    ignore_index=True)"
   ]
  },
  {
   "cell_type": "code",
   "execution_count": 4,
   "metadata": {
    "execution": {
     "iopub.execute_input": "2024-05-12T21:17:22.858642Z",
     "iopub.status.busy": "2024-05-12T21:17:22.858496Z",
     "iopub.status.idle": "2024-05-12T21:17:22.903124Z",
     "shell.execute_reply": "2024-05-12T21:17:22.902391Z"
    }
   },
   "outputs": [
    {
     "name": "stdout",
     "output_type": "stream",
     "text": [
      "Loading dataframe city to continent\n"
     ]
    }
   ],
   "source": [
    "print(\"Loading dataframe city to continent\")\n",
    "# Load the Dataframe of city to continent\n",
    "city_continent_df = pd.read_csv(\"data/isLocated_global.csv\", index_col=0)"
   ]
  },
  {
   "cell_type": "code",
   "execution_count": 5,
   "metadata": {
    "execution": {
     "iopub.execute_input": "2024-05-12T21:17:22.906040Z",
     "iopub.status.busy": "2024-05-12T21:17:22.905901Z",
     "iopub.status.idle": "2024-05-12T21:17:22.909011Z",
     "shell.execute_reply": "2024-05-12T21:17:22.908393Z"
    }
   },
   "outputs": [],
   "source": [
    "# defining parameter range ofr GridSearch\n",
    "# Define the hyperparameter grid\n",
    "param_grid = [\n",
    "  {'C': [0.1, 1, 2.5, 5, 7.5, 10], 'kernel': ['rbf']},\n",
    " ]"
   ]
  },
  {
   "cell_type": "markdown",
   "metadata": {},
   "source": [
    "## Utils"
   ]
  },
  {
   "cell_type": "code",
   "execution_count": 6,
   "metadata": {
    "execution": {
     "iopub.execute_input": "2024-05-12T21:17:22.912397Z",
     "iopub.status.busy": "2024-05-12T21:17:22.911997Z",
     "iopub.status.idle": "2024-05-12T21:17:22.918268Z",
     "shell.execute_reply": "2024-05-12T21:17:22.917649Z"
    }
   },
   "outputs": [],
   "source": [
    "def similarity_score(ref, neighbours, df_with_labels, mode: str = \"all\"):\n",
    "    # Determine the label of the reference\n",
    "    label_ref = df_with_labels[df_with_labels['Entity']== ref]['labels'].to_list()[0]\n",
    "    \n",
    "    # Determine labels for all neighbors at once\n",
    "    all_neighbours_labels = np.array([df_with_labels[df_with_labels['Entity'] == name]['labels'].to_list()[0] for name in neighbours])\n",
    "\n",
    "    # Calculate intersection scores\n",
    "\n",
    "    if mode == \"one\":\n",
    "        intersect_labels = np.logical_and(label_ref, all_neighbours_labels)\n",
    "        # Sum the intersect labels along axis 1 (columns) and count non-zero elements\n",
    "        non_zero = np.count_nonzero(intersect_labels, axis=1)\n",
    "\n",
    "        # Count number of rows with non-zero elements\n",
    "        score = np.count_nonzero(non_zero)\n",
    "    elif mode == \"all\":\n",
    "        all_each_line = np.all(all_neighbours_labels == label_ref, axis=1)\n",
    "        # Count number of rows with non-zero elements\n",
    "        score = np.count_nonzero(all_each_line)\n",
    "    else:\n",
    "        raise ValueError(\"This is not a valid mode.\")\n",
    "\n",
    "    return score / len(neighbours)\n",
    "\n",
    "def closest_neighbours(ref_entity, other_entities, df_with_labels, k, mode: str = \"euclidean\"):\n",
    "    if mode == \"euclidean\":\n",
    "        relative_ref = other_entities - ref_entity\n",
    "        dist_to_ref = np.linalg.norm(relative_ref, axis=1)\n",
    "        k_closest_entity = np.argsort(dist_to_ref)[1:(k+1)]\n",
    "        return df_with_labels['Entity'].iloc[k_closest_entity]\n",
    "    elif mode == \"cosine\":\n",
    "        norm_ref = np.linalg.norm(ref_entity)\n",
    "        ref_norm = ref_entity / norm_ref\n",
    "        norm_other = np.linalg.norm(other_entities, axis=1)\n",
    "        normalized_other = np.divide(other_entities, norm_other.reshape(-1,1)) # division elementwise\n",
    "        cosine_sim = normalized_other.dot(ref_norm.T).reshape(-1,)\n",
    "        # We take the k elemnt with the highest score\n",
    "        k_closest_values = np.argsort(cosine_sim)[-(k+1):-1]\n",
    "        return df_with_labels['Entity'].iloc[k_closest_values]\n",
    "    raise ValueError(\"This is not a valid mode of similarity\")"
   ]
  },
  {
   "cell_type": "markdown",
   "metadata": {},
   "source": [
    "## Apply SVM on Persons"
   ]
  },
  {
   "cell_type": "markdown",
   "metadata": {},
   "source": [
    "#### We filter the entities (only person type)"
   ]
  },
  {
   "cell_type": "code",
   "execution_count": 7,
   "metadata": {
    "execution": {
     "iopub.execute_input": "2024-05-12T21:17:22.921208Z",
     "iopub.status.busy": "2024-05-12T21:17:22.920979Z",
     "iopub.status.idle": "2024-05-12T21:17:23.050773Z",
     "shell.execute_reply": "2024-05-12T21:17:23.050153Z"
    }
   },
   "outputs": [],
   "source": [
    "# Loads all the data corresponding to person type\n",
    "entity_type = \"person_100007846\"\n",
    "\n",
    "# Triples with the relation wasBornIn\n",
    "triples_birth = triples_df[(triples_df['relation'] == 'wasBornIn')]\n",
    "birth_head = set(triples_birth['head'].to_list())\n",
    "birth_name = entities_df[entities_df['Entity'].isin(birth_head) & entities_df[\"type\"].apply(lambda x: entity_type in x)]\n",
    "birth_index = np.array(birth_name.index, dtype=int)"
   ]
  },
  {
   "cell_type": "code",
   "execution_count": 8,
   "metadata": {
    "execution": {
     "iopub.execute_input": "2024-05-12T21:17:23.053751Z",
     "iopub.status.busy": "2024-05-12T21:17:23.053609Z",
     "iopub.status.idle": "2024-05-12T21:17:23.130003Z",
     "shell.execute_reply": "2024-05-12T21:17:23.129242Z"
    }
   },
   "outputs": [],
   "source": [
    "# Adapt scale embeddings to only concerned data\n",
    "scale_data = deepcopy(all_arrays)\n",
    "scale =StandardScaler()\n",
    "scale_data[birth_index] = scale.fit_transform(scale_data[birth_index])"
   ]
  },
  {
   "cell_type": "code",
   "execution_count": 9,
   "metadata": {
    "execution": {
     "iopub.execute_input": "2024-05-12T21:17:23.132875Z",
     "iopub.status.busy": "2024-05-12T21:17:23.132740Z",
     "iopub.status.idle": "2024-05-12T21:17:23.135684Z",
     "shell.execute_reply": "2024-05-12T21:17:23.135154Z"
    }
   },
   "outputs": [],
   "source": [
    "all_continents = ['Europe', 'Asia', 'North America']"
   ]
  },
  {
   "cell_type": "code",
   "execution_count": null,
   "metadata": {
    "execution": {
     "iopub.execute_input": "2024-05-12T21:17:23.138385Z",
     "iopub.status.busy": "2024-05-12T21:17:23.138259Z",
     "iopub.status.idle": "2024-05-12T21:30:04.895802Z",
     "shell.execute_reply": "2024-05-12T21:30:04.895059Z"
    }
   },
   "outputs": [],
   "source": [
    "def is_in_continent(city: str, continent: str) -> bool:\n",
    "    \"\"\"Return True if the city is in the specified continent, otherwise False\"\"\"\n",
    "    city_row = city_continent_df[city_continent_df['cities'] == city]\n",
    "    return (city_row['continents'] == continent).any()\n",
    "\n",
    "# We label the data\n",
    "labels_birth = np.array([\n",
    "     [is_in_continent(triples_birth[triples_birth['head'] == entity]['tail'].item(), continent)\n",
    "     for continent in all_continents]\n",
    "     for entity in tqdm(entities_df['Entity'][birth_index], total=len(entities_df['Entity'][birth_index]))\n",
    "])\n",
    "\n",
    "# We select only the embeddings of the entities\n",
    "embeddings_birth = scale_data[birth_index,:]"
   ]
  },
  {
   "cell_type": "code",
   "execution_count": 11,
   "metadata": {
    "execution": {
     "iopub.execute_input": "2024-05-12T21:30:04.899286Z",
     "iopub.status.busy": "2024-05-12T21:30:04.899129Z",
     "iopub.status.idle": "2024-05-12T21:30:04.910358Z",
     "shell.execute_reply": "2024-05-12T21:30:04.909690Z"
    }
   },
   "outputs": [],
   "source": [
    "# We split the entities\n",
    "X_birth_train, X_birth_test, y_birth_train, y_birth_test  = train_test_split(embeddings_birth, labels_birth, test_size=0.2, random_state=42)"
   ]
  },
  {
   "cell_type": "code",
   "execution_count": 12,
   "metadata": {
    "execution": {
     "iopub.execute_input": "2024-05-12T21:30:04.913258Z",
     "iopub.status.busy": "2024-05-12T21:30:04.913122Z",
     "iopub.status.idle": "2024-05-12T21:30:04.921180Z",
     "shell.execute_reply": "2024-05-12T21:30:04.920639Z"
    }
   },
   "outputs": [
    {
     "name": "stdout",
     "output_type": "stream",
     "text": [
      "The total number of entities is 43017\n",
      "The number of European entities is 23986, which is 55.76 %\n",
      "The number of non European entities is 19031, which is 44.24 %\n",
      "The number of Asian entities is 3257, which is 7.57 %\n",
      "The number of non Asian entities is 39760, which is 92.43 %\n",
      "The number of North American entities is 9769, which is 22.71 %\n",
      "The number of non North American entities is 33248, which is 77.29 %\n"
     ]
    }
   ],
   "source": [
    "#Statistics place\n",
    "# Europe\n",
    "nb_europe = len(labels_birth[labels_birth[:,0] == True])\n",
    "nb_not_europe = len(labels_birth[labels_birth[:,0] == False])\n",
    "\n",
    "nb_total = nb_europe + nb_not_europe\n",
    "\n",
    "# Asia\n",
    "nb_asia = len(labels_birth[labels_birth[:,1] == True])\n",
    "nb_not_asia = len(labels_birth[labels_birth[:,1] == False])\n",
    "\n",
    "# North America\n",
    "nb_north_america = len(labels_birth[labels_birth[:,2] == True])\n",
    "nb_not_north_america = len(labels_birth[labels_birth[:,2] == False])\n",
    "\n",
    "print(f\"The total number of entities is {nb_total}\")\n",
    "print(f\"The number of European entities is {nb_europe}, which is {round(100*nb_europe/nb_total,2)} %\")\n",
    "print(f\"The number of non European entities is {nb_not_europe}, which is {round(100*nb_not_europe/nb_total,2)} %\")\n",
    "print(f\"The number of Asian entities is {nb_asia}, which is {round(100*nb_asia/nb_total,2)} %\")\n",
    "print(f\"The number of non Asian entities is {nb_not_asia}, which is {round(100*nb_not_asia/nb_total,2)} %\")\n",
    "print(f\"The number of North American entities is {nb_north_america}, which is {round(100*nb_north_america/nb_total,2)} %\")\n",
    "print(f\"The number of non North American entities is {nb_not_north_america}, which is {round(100*nb_not_north_america/nb_total,2)} %\")"
   ]
  },
  {
   "cell_type": "code",
   "execution_count": 13,
   "metadata": {
    "execution": {
     "iopub.execute_input": "2024-05-12T21:30:04.923844Z",
     "iopub.status.busy": "2024-05-12T21:30:04.923618Z",
     "iopub.status.idle": "2024-05-12T22:05:44.727676Z",
     "shell.execute_reply": "2024-05-12T22:05:44.726666Z"
    }
   },
   "outputs": [
    {
     "name": "stdout",
     "output_type": "stream",
     "text": [
      "Fitting 5 folds for each of 6 candidates, totalling 30 fits\n"
     ]
    },
    {
     "name": "stdout",
     "output_type": "stream",
     "text": [
      "The best parameters are:  {'C': 2.5, 'kernel': 'rbf'}\n"
     ]
    },
    {
     "name": "stdout",
     "output_type": "stream",
     "text": [
      "The training accuracy is: 99.60 %\n"
     ]
    },
    {
     "name": "stdout",
     "output_type": "stream",
     "text": [
      "The testing accuracy is: 94.85 %\n"
     ]
    },
    {
     "name": "stdout",
     "output_type": "stream",
     "text": [
      "The kappa score (testing set) is 0.90\n"
     ]
    },
    {
     "name": "stdout",
     "output_type": "stream",
     "text": [
      "Fitting 5 folds for each of 6 candidates, totalling 30 fits\n"
     ]
    },
    {
     "name": "stdout",
     "output_type": "stream",
     "text": [
      "The best parameters are:  {'C': 2.5, 'kernel': 'rbf'}\n"
     ]
    },
    {
     "name": "stdout",
     "output_type": "stream",
     "text": [
      "The training accuracy is: 99.98 %\n"
     ]
    },
    {
     "name": "stdout",
     "output_type": "stream",
     "text": [
      "The testing accuracy is: 98.35 %\n"
     ]
    },
    {
     "name": "stdout",
     "output_type": "stream",
     "text": [
      "The kappa score (testing set) is 0.88\n"
     ]
    },
    {
     "name": "stdout",
     "output_type": "stream",
     "text": [
      "Fitting 5 folds for each of 6 candidates, totalling 30 fits\n"
     ]
    },
    {
     "name": "stdout",
     "output_type": "stream",
     "text": [
      "The best parameters are:  {'C': 10, 'kernel': 'rbf'}\n"
     ]
    },
    {
     "name": "stdout",
     "output_type": "stream",
     "text": [
      "The training accuracy is: 100.00 %\n"
     ]
    },
    {
     "name": "stdout",
     "output_type": "stream",
     "text": [
      "The testing accuracy is: 97.00 %\n"
     ]
    },
    {
     "name": "stdout",
     "output_type": "stream",
     "text": [
      "The kappa score (testing set) is 0.91\n"
     ]
    }
   ],
   "source": [
    "# Process SVM for all continents\n",
    "grid_birth = [GridSearchCV(SVC(class_weight=\"balanced\", gamma=\"scale\"), param_grid, refit=True, verbose=1, scoring = make_scorer(cohen_kappa_score), n_jobs=16)]*len(all_continents)\n",
    "\n",
    "decision_birth = []\n",
    "for idx, svm in enumerate(grid_birth):\n",
    "    svm.fit(X_birth_train, y_birth_train[:,idx])\n",
    "\n",
    "    clf_birth = svm.best_estimator_\n",
    "    print(\"The best parameters are: \", svm.best_params_)\n",
    "    print(\"The training accuracy is: {:.2f} %\".format(clf_birth.score(X_birth_train, y_birth_train[:,idx])*100))\n",
    "    print(\"The testing accuracy is: {:.2f} %\".format(clf_birth.score(X_birth_test, y_birth_test[:,idx])*100))\n",
    "    print(\"The kappa score (testing set) is {:.2f}\".format(cohen_kappa_score(clf_birth.predict(X_birth_test), y_birth_test[:,idx])))\n",
    "    decision_birth.append(svm.best_estimator_.decision_function(scale_data).reshape(-1,1))\n"
   ]
  },
  {
   "cell_type": "markdown",
   "metadata": {},
   "source": [
    "### Projection into a smaller space"
   ]
  },
  {
   "cell_type": "code",
   "execution_count": 14,
   "metadata": {
    "execution": {
     "iopub.execute_input": "2024-05-12T22:05:44.731457Z",
     "iopub.status.busy": "2024-05-12T22:05:44.731291Z",
     "iopub.status.idle": "2024-05-12T22:05:44.735218Z",
     "shell.execute_reply": "2024-05-12T22:05:44.734596Z"
    }
   },
   "outputs": [],
   "source": [
    "# Project and add bias through decision function\n",
    "entity_proj = np.concatenate(decision_birth, axis=1)"
   ]
  },
  {
   "cell_type": "markdown",
   "metadata": {},
   "source": [
    "### Evaluation"
   ]
  },
  {
   "cell_type": "code",
   "execution_count": 15,
   "metadata": {
    "execution": {
     "iopub.execute_input": "2024-05-12T22:05:44.738104Z",
     "iopub.status.busy": "2024-05-12T22:05:44.737976Z",
     "iopub.status.idle": "2024-05-12T22:05:44.756279Z",
     "shell.execute_reply": "2024-05-12T22:05:44.755580Z"
    }
   },
   "outputs": [
    {
     "name": "stderr",
     "output_type": "stream",
     "text": [
      "/tmp/ipykernel_4047443/471786072.py:3: SettingWithCopyWarning: \n",
      "A value is trying to be set on a copy of a slice from a DataFrame.\n",
      "Try using .loc[row_indexer,col_indexer] = value instead\n",
      "\n",
      "See the caveats in the documentation: https://pandas.pydata.org/pandas-docs/stable/user_guide/indexing.html#returning-a-view-versus-a-copy\n",
      "  intersect_entities[\"labels\"] = labels_birth.tolist()\n"
     ]
    }
   ],
   "source": [
    "# Concatenate all labels for each axis\n",
    "intersect_entities = entities_df.iloc[birth_index]\n",
    "intersect_entities[\"labels\"] = labels_birth.tolist()"
   ]
  },
  {
   "cell_type": "code",
   "execution_count": null,
   "metadata": {
    "execution": {
     "iopub.execute_input": "2024-05-12T22:07:58.275200Z",
     "iopub.status.busy": "2024-05-12T22:07:58.275054Z",
     "iopub.status.idle": "2024-05-12T23:05:40.780126Z",
     "shell.execute_reply": "2024-05-12T23:05:40.779315Z"
    }
   },
   "outputs": [],
   "source": [
    "# k parameter\n",
    "k=10\n",
    "\n",
    "# Global similarity score\n",
    "scores_raw = 0\n",
    "scores_proj = 0\n",
    "for idx in tqdm(birth_index):\n",
    "    # Choose a ref\n",
    "    ref_name = intersect_entities['Entity'][idx]\n",
    "\n",
    "    # Before projection\n",
    "    closest_entity_raw = closest_neighbours(scale_data[idx,:], scale_data[birth_index], intersect_entities, k)\n",
    "    scores_raw += similarity_score(ref_name, closest_entity_raw, intersect_entities)\n",
    "\n",
    "    # After projection\n",
    "    closest_entity = closest_neighbours(entity_proj[idx,:], entity_proj[birth_index], intersect_entities, k)\n",
    "    scores_proj += similarity_score(ref_name, closest_entity, intersect_entities)\n",
    "\n",
    "scores_raw /= len(birth_index)\n",
    "scores_proj /= len(birth_index)"
   ]
  },
  {
   "cell_type": "code",
   "execution_count": 18,
   "metadata": {
    "execution": {
     "iopub.execute_input": "2024-05-12T23:05:40.783727Z",
     "iopub.status.busy": "2024-05-12T23:05:40.783564Z",
     "iopub.status.idle": "2024-05-12T23:05:40.787709Z",
     "shell.execute_reply": "2024-05-12T23:05:40.787067Z"
    }
   },
   "outputs": [
    {
     "name": "stdout",
     "output_type": "stream",
     "text": [
      "The similarity score before projection of the top10 entity is: 0.831\n",
      "The similarity score after projection of the top10 entity is: 0.979\n"
     ]
    }
   ],
   "source": [
    "print(f\"The similarity score before projection of the top{k} entity is: {round(scores_raw,3)}\")\n",
    "print(f\"The similarity score after projection of the top{k} entity is: {round(scores_proj,3)}\")"
   ]
  },
  {
   "cell_type": "markdown",
   "metadata": {},
   "source": [
    "### We repeat this process for the relation playsFor"
   ]
  },
  {
   "cell_type": "code",
   "execution_count": 19,
   "metadata": {
    "execution": {
     "iopub.execute_input": "2024-05-12T23:05:40.790716Z",
     "iopub.status.busy": "2024-05-12T23:05:40.790486Z",
     "iopub.status.idle": "2024-05-12T23:05:41.202599Z",
     "shell.execute_reply": "2024-05-12T23:05:41.201836Z"
    }
   },
   "outputs": [],
   "source": [
    "# Triples with the relation playsFor\n",
    "triples_play = triples_df[(triples_df['relation'] == 'playsFor')]\n",
    "play_tail = set(triples_play['tail'].to_list())\n",
    "\n",
    "triples_location = triples_df[triples_df[\"head\"].isin(play_tail) & (triples_df[\"relation\"] == \"isLocatedIn\")]\n",
    "location_head = set(triples_location[\"head\"].to_list())\n",
    "\n",
    "# We take the intersection of the triples due to the lack of some triples in Yago3-10\n",
    "triples_play_location = triples_df[(triples_df['relation'] == 'playsFor') & (triples_df['tail'].isin(location_head))] \n",
    "play_location_head = set(triples_play_location[\"head\"].to_list()) \n",
    "\n",
    "play_name = entities_df[entities_df['Entity'].isin(play_location_head) & entities_df[\"type\"].apply(lambda x: entity_type in x)]\n",
    "play_name_index = play_name.index\n",
    "play_index = np.array(play_name_index, dtype=int)\n",
    "\n"
   ]
  },
  {
   "cell_type": "code",
   "execution_count": 20,
   "metadata": {
    "execution": {
     "iopub.execute_input": "2024-05-12T23:05:41.205496Z",
     "iopub.status.busy": "2024-05-12T23:05:41.205356Z",
     "iopub.status.idle": "2024-05-12T23:05:41.270235Z",
     "shell.execute_reply": "2024-05-12T23:05:41.269555Z"
    }
   },
   "outputs": [],
   "source": [
    "# Adapt scale embeddings to only concerned data\n",
    "scale_play_data = deepcopy(all_arrays)\n",
    "scale =StandardScaler()\n",
    "scale_play_data[play_index] = scale.fit_transform(scale_play_data[play_index])"
   ]
  },
  {
   "cell_type": "code",
   "execution_count": 21,
   "metadata": {
    "execution": {
     "iopub.execute_input": "2024-05-12T23:05:41.273210Z",
     "iopub.status.busy": "2024-05-12T23:05:41.273066Z",
     "iopub.status.idle": "2024-05-12T23:05:41.276108Z",
     "shell.execute_reply": "2024-05-12T23:05:41.275597Z"
    }
   },
   "outputs": [],
   "source": [
    "all_countries = ['United Kingdom', 'Germany', 'Italy', 'United States']"
   ]
  },
  {
   "cell_type": "code",
   "execution_count": null,
   "metadata": {
    "execution": {
     "iopub.execute_input": "2024-05-12T23:05:41.279099Z",
     "iopub.status.busy": "2024-05-12T23:05:41.278872Z",
     "iopub.status.idle": "2024-05-12T23:36:44.595694Z",
     "shell.execute_reply": "2024-05-12T23:36:44.594783Z"
    }
   },
   "outputs": [],
   "source": [
    "def play_is_in_continent(entity: str, country: str) -> bool:\n",
    "    \"\"\"Return True if the city is in the specified country, otherwise False\"\"\"\n",
    "    play = triples_play_location[triples_play_location['head'] == entity]['tail'].to_list()[0]\n",
    "    location = triples_location[(triples_location['head']==play) & (triples_location[\"relation\"]==\"isLocatedIn\")][\"tail\"].to_list()[0]\n",
    "    city_row = city_continent_df[city_continent_df['cities'] == location]\n",
    "    return (city_row['countries'] == country).any()\n",
    "\n",
    "# We label the data\n",
    "labels_play = np.array([\n",
    "     [play_is_in_continent(entity, country)\n",
    "     for country in all_countries]\n",
    "     for entity in tqdm(entities_df['Entity'][play_index], total=len(entities_df['Entity'][play_index]))\n",
    "])\n",
    "\n",
    "# We select only the embeddings of the entities\n",
    "embeddings_play = scale_play_data[play_index]"
   ]
  },
  {
   "cell_type": "code",
   "execution_count": 23,
   "metadata": {
    "execution": {
     "iopub.execute_input": "2024-05-12T23:36:44.599351Z",
     "iopub.status.busy": "2024-05-12T23:36:44.599196Z",
     "iopub.status.idle": "2024-05-12T23:36:44.608006Z",
     "shell.execute_reply": "2024-05-12T23:36:44.607272Z"
    }
   },
   "outputs": [],
   "source": [
    "# We split the entities\n",
    "X_play_train, X_play_test, y_play_train, y_play_test  = train_test_split(embeddings_play, labels_play, test_size=0.2, random_state=42)"
   ]
  },
  {
   "cell_type": "code",
   "execution_count": 24,
   "metadata": {
    "execution": {
     "iopub.execute_input": "2024-05-12T23:36:44.611006Z",
     "iopub.status.busy": "2024-05-12T23:36:44.610874Z",
     "iopub.status.idle": "2024-05-12T23:48:13.569719Z",
     "shell.execute_reply": "2024-05-12T23:48:13.568713Z"
    }
   },
   "outputs": [
    {
     "name": "stdout",
     "output_type": "stream",
     "text": [
      "Fitting 5 folds for each of 6 candidates, totalling 30 fits\n"
     ]
    },
    {
     "name": "stdout",
     "output_type": "stream",
     "text": [
      "The best parameters are:  {'C': 2.5, 'kernel': 'rbf'}\n"
     ]
    },
    {
     "name": "stdout",
     "output_type": "stream",
     "text": [
      "The training accuracy is: 98.77 %\n"
     ]
    },
    {
     "name": "stdout",
     "output_type": "stream",
     "text": [
      "The testing accuracy is: 95.23 %\n"
     ]
    },
    {
     "name": "stdout",
     "output_type": "stream",
     "text": [
      "The kappa score (testing set) is 0.86\n"
     ]
    },
    {
     "name": "stdout",
     "output_type": "stream",
     "text": [
      "Fitting 5 folds for each of 6 candidates, totalling 30 fits\n"
     ]
    },
    {
     "name": "stdout",
     "output_type": "stream",
     "text": [
      "The best parameters are:  {'C': 1, 'kernel': 'rbf'}\n"
     ]
    },
    {
     "name": "stdout",
     "output_type": "stream",
     "text": [
      "The training accuracy is: 98.61 %\n"
     ]
    },
    {
     "name": "stdout",
     "output_type": "stream",
     "text": [
      "The testing accuracy is: 96.89 %\n"
     ]
    },
    {
     "name": "stdout",
     "output_type": "stream",
     "text": [
      "The kappa score (testing set) is 0.83\n"
     ]
    },
    {
     "name": "stdout",
     "output_type": "stream",
     "text": [
      "Fitting 5 folds for each of 6 candidates, totalling 30 fits\n"
     ]
    },
    {
     "name": "stdout",
     "output_type": "stream",
     "text": [
      "The best parameters are:  {'C': 1, 'kernel': 'rbf'}\n"
     ]
    },
    {
     "name": "stdout",
     "output_type": "stream",
     "text": [
      "The training accuracy is: 99.24 %\n"
     ]
    },
    {
     "name": "stdout",
     "output_type": "stream",
     "text": [
      "The testing accuracy is: 97.83 %\n"
     ]
    },
    {
     "name": "stdout",
     "output_type": "stream",
     "text": [
      "The kappa score (testing set) is 0.83\n"
     ]
    },
    {
     "name": "stdout",
     "output_type": "stream",
     "text": [
      "Fitting 5 folds for each of 6 candidates, totalling 30 fits\n"
     ]
    },
    {
     "name": "stdout",
     "output_type": "stream",
     "text": [
      "The best parameters are:  {'C': 2.5, 'kernel': 'rbf'}\n"
     ]
    },
    {
     "name": "stdout",
     "output_type": "stream",
     "text": [
      "The training accuracy is: 99.76 %\n"
     ]
    },
    {
     "name": "stdout",
     "output_type": "stream",
     "text": [
      "The testing accuracy is: 96.95 %\n"
     ]
    },
    {
     "name": "stdout",
     "output_type": "stream",
     "text": [
      "The kappa score (testing set) is 0.70\n"
     ]
    }
   ],
   "source": [
    "# Process SVM for all continents\n",
    "grid_play = [GridSearchCV(SVC(class_weight=\"balanced\", gamma=\"scale\"), param_grid, refit=True, verbose=1, scoring = make_scorer(cohen_kappa_score), n_jobs=-1)]*len(all_countries)\n",
    "\n",
    "decision_play = []\n",
    "for idx, svm in enumerate(grid_play):\n",
    "    svm.fit(X_play_train, y_play_train[:,idx])\n",
    "\n",
    "    clf_play = svm.best_estimator_\n",
    "    print(\"The best parameters are: \", svm.best_params_)\n",
    "    print(\"The training accuracy is: {:.2f} %\".format(clf_play.score(X_play_train, y_play_train[:,idx])*100))\n",
    "    print(\"The testing accuracy is: {:.2f} %\".format(clf_play.score(X_play_test, y_play_test[:,idx])*100))\n",
    "    print(\"The kappa score (testing set) is {:.2f}\".format(cohen_kappa_score(clf_play.predict(X_play_test), y_play_test[:,idx])))\n",
    "    decision_play.append(svm.best_estimator_.decision_function(scale_data).reshape(-1,1))\n"
   ]
  },
  {
   "cell_type": "markdown",
   "metadata": {},
   "source": [
    "### Projecting into a smaller space"
   ]
  },
  {
   "cell_type": "code",
   "execution_count": 25,
   "metadata": {
    "execution": {
     "iopub.execute_input": "2024-05-12T23:48:13.573644Z",
     "iopub.status.busy": "2024-05-12T23:48:13.573487Z",
     "iopub.status.idle": "2024-05-12T23:48:13.577107Z",
     "shell.execute_reply": "2024-05-12T23:48:13.576477Z"
    }
   },
   "outputs": [],
   "source": [
    "# Project and add bias through decision function\n",
    "entity_play_proj = np.concatenate(decision_play, axis=1)"
   ]
  },
  {
   "cell_type": "markdown",
   "metadata": {},
   "source": [
    "### Evaluation"
   ]
  },
  {
   "cell_type": "code",
   "execution_count": 26,
   "metadata": {
    "execution": {
     "iopub.execute_input": "2024-05-12T23:48:13.579983Z",
     "iopub.status.busy": "2024-05-12T23:48:13.579854Z",
     "iopub.status.idle": "2024-05-12T23:48:13.596018Z",
     "shell.execute_reply": "2024-05-12T23:48:13.595327Z"
    }
   },
   "outputs": [
    {
     "name": "stderr",
     "output_type": "stream",
     "text": [
      "/tmp/ipykernel_4047443/143389223.py:3: SettingWithCopyWarning: \n",
      "A value is trying to be set on a copy of a slice from a DataFrame.\n",
      "Try using .loc[row_indexer,col_indexer] = value instead\n",
      "\n",
      "See the caveats in the documentation: https://pandas.pydata.org/pandas-docs/stable/user_guide/indexing.html#returning-a-view-versus-a-copy\n",
      "  play_entities[\"labels\"] = labels_play.tolist()\n"
     ]
    }
   ],
   "source": [
    "# Concatenate all labels for each axis\n",
    "play_entities = entities_df.iloc[play_index]\n",
    "play_entities[\"labels\"] = labels_play.tolist()"
   ]
  },
  {
   "cell_type": "code",
   "execution_count": null,
   "metadata": {
    "execution": {
     "iopub.execute_input": "2024-05-12T23:49:56.293783Z",
     "iopub.status.busy": "2024-05-12T23:49:56.293635Z",
     "iopub.status.idle": "2024-05-13T00:18:37.442264Z",
     "shell.execute_reply": "2024-05-13T00:18:37.441521Z"
    }
   },
   "outputs": [],
   "source": [
    "# k parameter\n",
    "k=10\n",
    "\n",
    "# Global similarity score\n",
    "scores_raw = 0\n",
    "scores_proj = 0\n",
    "for idx in tqdm(play_index):\n",
    "    # Choose a ref\n",
    "    ref_name = play_entities['Entity'][idx]\n",
    "\n",
    "    # Before projection\n",
    "    closest_entity_raw = closest_neighbours(scale_play_data[idx,:], scale_play_data[play_index], play_entities, k)\n",
    "    scores_raw += similarity_score(ref_name, closest_entity_raw, play_entities)\n",
    "\n",
    "    # After projection\n",
    "    closest_entity = closest_neighbours(entity_play_proj[idx,:], entity_play_proj[play_index], play_entities, k)\n",
    "    scores_proj += similarity_score(ref_name, closest_entity, play_entities)\n",
    "\n",
    "scores_raw /= len(play_index)\n",
    "scores_proj /= len(play_index)"
   ]
  },
  {
   "cell_type": "code",
   "execution_count": 29,
   "metadata": {
    "execution": {
     "iopub.execute_input": "2024-05-13T00:18:37.445692Z",
     "iopub.status.busy": "2024-05-13T00:18:37.445541Z",
     "iopub.status.idle": "2024-05-13T00:18:37.449447Z",
     "shell.execute_reply": "2024-05-13T00:18:37.448890Z"
    }
   },
   "outputs": [
    {
     "name": "stdout",
     "output_type": "stream",
     "text": [
      "The similarity score before projection of the top5 entity is: 0.854\n",
      "The similarity score after projection of the top5 entity is: 0.943\n"
     ]
    }
   ],
   "source": [
    "print(f\"The similarity score before projection of the top{k} entity is: {round(scores_raw,3)}\")\n",
    "print(f\"The similarity score after projection of the top{k} entity is: {round(scores_proj,3)}\")"
   ]
  }
 ],
 "metadata": {
  "kernelspec": {
   "display_name": "kcl",
   "language": "python",
   "name": "python3"
  },
  "language_info": {
   "codemirror_mode": {
    "name": "ipython",
    "version": 3
   },
   "file_extension": ".py",
   "mimetype": "text/x-python",
   "name": "python",
   "nbconvert_exporter": "python",
   "pygments_lexer": "ipython3",
   "version": "3.11.7"
  }
 },
 "nbformat": 4,
 "nbformat_minor": 2
}
