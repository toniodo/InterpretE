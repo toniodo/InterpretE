{
 "cells": [
  {
   "cell_type": "markdown",
   "metadata": {},
   "source": [
    "## Separating entities according their type"
   ]
  },
  {
   "cell_type": "code",
   "execution_count": 1,
   "metadata": {
    "execution": {
     "iopub.execute_input": "2024-05-12T21:19:12.505683Z",
     "iopub.status.busy": "2024-05-12T21:19:12.505400Z",
     "iopub.status.idle": "2024-05-12T21:19:22.423899Z",
     "shell.execute_reply": "2024-05-12T21:19:22.423097Z"
    }
   },
   "outputs": [],
   "source": [
    "from sklearn.svm import SVC\n",
    "from sklearn.model_selection import GridSearchCV , train_test_split\n",
    "from sklearn.preprocessing import StandardScaler\n",
    "from sklearn.metrics import cohen_kappa_score, make_scorer\n",
    "import numpy as np\n",
    "import pandas as pd\n",
    "from tqdm import tqdm\n",
    "from copy import deepcopy\n",
    "import torch\n",
    "from kge.util.io import load_checkpoint"
   ]
  },
  {
   "cell_type": "markdown",
   "metadata": {},
   "source": [
    "## Load entities with their embeddings"
   ]
  },
  {
   "cell_type": "code",
   "execution_count": 2,
   "metadata": {
    "execution": {
     "iopub.execute_input": "2024-05-12T21:19:22.428145Z",
     "iopub.status.busy": "2024-05-12T21:19:22.427791Z",
     "iopub.status.idle": "2024-05-12T21:19:22.737703Z",
     "shell.execute_reply": "2024-05-12T21:19:22.737043Z"
    }
   },
   "outputs": [],
   "source": [
    "# Load entity type Dataframe\n",
    "entities_df = pd.read_csv('data/entities_types.csv', sep=',', header=0)\n",
    "\n",
    "#load YAGO Embedding\n",
    "checkpoint = load_checkpoint('../embeddings/yago3-10-complex.pt') # Change the model here\n",
    "model = checkpoint[\"model\"]\n",
    "tensor_embed: torch.Tensor = dict(checkpoint['model'][0])['_entity_embedder._embeddings.weight']\n",
    "all_arrays = tensor_embed.numpy()"
   ]
  },
  {
   "cell_type": "markdown",
   "metadata": {},
   "source": [
    "### Load dataset"
   ]
  },
  {
   "cell_type": "code",
   "execution_count": 3,
   "metadata": {
    "execution": {
     "iopub.execute_input": "2024-05-12T21:19:22.741323Z",
     "iopub.status.busy": "2024-05-12T21:19:22.741187Z",
     "iopub.status.idle": "2024-05-12T21:19:23.537193Z",
     "shell.execute_reply": "2024-05-12T21:19:23.536418Z"
    }
   },
   "outputs": [
    {
     "name": "stdout",
     "output_type": "stream",
     "text": [
      "Loading triples...\n"
     ]
    }
   ],
   "source": [
    "# Load dataset to get the relations\n",
    "print(\"Loading triples...\")\n",
    "GLOBAL_PATH = \"data/\"\n",
    "NAME_SUBGRAPH = [\"train\", \"test\", \"valid\"]\n",
    "cols_name = [\"head\", \"relation\", \"tail\"]\n",
    "triples_df = pd.concat(\n",
    "    (pd.read_csv(\n",
    "        GLOBAL_PATH + f + '.txt',\n",
    "        sep=\"\\t\",\n",
    "        names=cols_name) for f in NAME_SUBGRAPH),\n",
    "    ignore_index=True)"
   ]
  },
  {
   "cell_type": "code",
   "execution_count": 4,
   "metadata": {
    "execution": {
     "iopub.execute_input": "2024-05-12T21:19:23.540167Z",
     "iopub.status.busy": "2024-05-12T21:19:23.540028Z",
     "iopub.status.idle": "2024-05-12T21:19:23.543114Z",
     "shell.execute_reply": "2024-05-12T21:19:23.542611Z"
    }
   },
   "outputs": [],
   "source": [
    "# defining parameter range ofr GridSearch\n",
    "# Define the hyperparameter grid\n",
    "param_grid = [\n",
    "  {'C': [0.1, 1, 2.5, 5, 7.5, 10], 'kernel': ['rbf']},\n",
    " ]"
   ]
  },
  {
   "cell_type": "markdown",
   "metadata": {},
   "source": [
    "### Utils"
   ]
  },
  {
   "cell_type": "code",
   "execution_count": 5,
   "metadata": {
    "execution": {
     "iopub.execute_input": "2024-05-12T21:19:23.546025Z",
     "iopub.status.busy": "2024-05-12T21:19:23.545898Z",
     "iopub.status.idle": "2024-05-12T21:19:23.551926Z",
     "shell.execute_reply": "2024-05-12T21:19:23.551410Z"
    }
   },
   "outputs": [],
   "source": [
    "def similarity_score(ref, neighbours, df_with_labels, mode: str = \"all\"):\n",
    "    # Determine the label of the reference\n",
    "    label_ref = df_with_labels[df_with_labels['Entity']== ref]['labels'].to_list()[0]\n",
    "    \n",
    "    # Determine labels for all neighbors at once\n",
    "    all_neighbours_labels = np.array([df_with_labels[df_with_labels['Entity'] == name]['labels'].to_list()[0] for name in neighbours])\n",
    "\n",
    "    # Calculate intersection scores\n",
    "\n",
    "    if mode == \"one\":\n",
    "        intersect_labels = np.logical_and(label_ref, all_neighbours_labels)\n",
    "        # Sum the intersect labels along axis 1 (columns) and count non-zero elements\n",
    "        non_zero = np.count_nonzero(intersect_labels, axis=1)\n",
    "\n",
    "        # Count number of rows with non-zero elements\n",
    "        score = np.count_nonzero(non_zero)\n",
    "    elif mode == \"all\":\n",
    "        all_each_line = np.all(all_neighbours_labels == label_ref, axis=1)\n",
    "        # Count number of rows with non-zero elements\n",
    "        score = np.count_nonzero(all_each_line)\n",
    "    else:\n",
    "        raise ValueError(\"This is not a valid mode.\")\n",
    "\n",
    "    return score / len(neighbours)\n",
    "\n",
    "def closest_neighbours(ref_entity, other_entities, df_with_labels, k, mode: str = \"euclidean\"):\n",
    "    if mode == \"euclidean\":\n",
    "        relative_ref = other_entities - ref_entity\n",
    "        dist_to_ref = np.linalg.norm(relative_ref, axis=1)\n",
    "        k_closest_entity = np.argsort(dist_to_ref)[1:(k+1)]\n",
    "        return df_with_labels['Entity'].iloc[k_closest_entity]\n",
    "    elif mode == \"cosine\":\n",
    "        norm_ref = np.linalg.norm(ref_entity)\n",
    "        ref_norm = ref_entity / norm_ref\n",
    "        norm_other = np.linalg.norm(other_entities, axis=1)\n",
    "        normalized_other = np.divide(other_entities, norm_other.reshape(-1,1)) # division elementwise\n",
    "        cosine_sim = normalized_other.dot(ref_norm.T).reshape(-1,)\n",
    "        # We take the k elemnt with the highest score\n",
    "        k_closest_values = np.argsort(cosine_sim)[-(k+1):-1]\n",
    "        return df_with_labels['Entity'].iloc[k_closest_values]\n",
    "    raise ValueError(\"This is not a valid mode of similarity\")"
   ]
  },
  {
   "cell_type": "markdown",
   "metadata": {},
   "source": [
    "## Apply SVM on Persons"
   ]
  },
  {
   "cell_type": "markdown",
   "metadata": {},
   "source": [
    "### Only keep person type"
   ]
  },
  {
   "cell_type": "code",
   "execution_count": 6,
   "metadata": {
    "execution": {
     "iopub.execute_input": "2024-05-12T21:19:23.554807Z",
     "iopub.status.busy": "2024-05-12T21:19:23.554677Z",
     "iopub.status.idle": "2024-05-12T21:19:23.585977Z",
     "shell.execute_reply": "2024-05-12T21:19:23.585200Z"
    }
   },
   "outputs": [],
   "source": [
    "# Loads all the data corresponding to person type\n",
    "entity_type = \"person_100007846\"\n",
    "\n",
    "person_name = entities_df[entities_df[\"type\"].apply(lambda x: entity_type in x)]\n",
    "person_index = np.array(person_name.index, dtype=int)"
   ]
  },
  {
   "cell_type": "code",
   "execution_count": 7,
   "metadata": {
    "execution": {
     "iopub.execute_input": "2024-05-12T21:19:23.588851Z",
     "iopub.status.busy": "2024-05-12T21:19:23.588698Z",
     "iopub.status.idle": "2024-05-12T21:19:23.698581Z",
     "shell.execute_reply": "2024-05-12T21:19:23.697807Z"
    }
   },
   "outputs": [],
   "source": [
    "# Adapt scale embeddings to only concerned data\n",
    "scale_person_data = deepcopy(all_arrays)\n",
    "scale = StandardScaler()\n",
    "scale_person_data[person_index] = scale.fit_transform(scale_person_data[person_index])"
   ]
  },
  {
   "cell_type": "code",
   "execution_count": 8,
   "metadata": {
    "execution": {
     "iopub.execute_input": "2024-05-12T21:19:23.702076Z",
     "iopub.status.busy": "2024-05-12T21:19:23.701806Z",
     "iopub.status.idle": "2024-05-12T21:19:23.705128Z",
     "shell.execute_reply": "2024-05-12T21:19:23.704498Z"
    }
   },
   "outputs": [],
   "source": [
    "all_person_types = [\"player_110439851\", \"artist_109812338\", \"politician_110450303\", \"scientist_110560637\", \"officeholder_110371450\", \"writer_110794014\"]"
   ]
  },
  {
   "cell_type": "code",
   "execution_count": 9,
   "metadata": {
    "execution": {
     "iopub.execute_input": "2024-05-12T21:19:23.707797Z",
     "iopub.status.busy": "2024-05-12T21:19:23.707673Z",
     "iopub.status.idle": "2024-05-12T21:19:24.095341Z",
     "shell.execute_reply": "2024-05-12T21:19:24.094551Z"
    }
   },
   "outputs": [
    {
     "name": "stderr",
     "output_type": "stream",
     "text": [
      "\r\n",
      "  0%|          | 0/67476 [00:00<?, ?it/s]"
     ]
    },
    {
     "name": "stderr",
     "output_type": "stream",
     "text": [
      "\r\n",
      " 27%|██▋       | 17911/67476 [00:00<00:00, 104075.34it/s]"
     ]
    },
    {
     "name": "stderr",
     "output_type": "stream",
     "text": [
      "\r\n",
      " 75%|███████▍  | 50359/67476 [00:00<00:00, 204040.06it/s]"
     ]
    },
    {
     "name": "stderr",
     "output_type": "stream",
     "text": [
      "\r\n",
      "100%|██████████| 67476/67476 [00:00<00:00, 207225.46it/s]"
     ]
    },
    {
     "name": "stderr",
     "output_type": "stream",
     "text": [
      "\n"
     ]
    }
   ],
   "source": [
    "# Extracting relevant data from entities_df to avoid repeated lookups\n",
    "entity_types = entities_df.set_index('Entity')['type']\n",
    "\n",
    "# Creating a list to store the labels\n",
    "labels_person = []\n",
    "\n",
    "# Iterate over each entity in person_index\n",
    "for entity in tqdm(entities_df['Entity'][person_index], total=len(entities_df['Entity'][person_index])):\n",
    "    # Extracting types for the current entity\n",
    "    entity_type = entity_types.get(entity, None)\n",
    "    if entity_type is not None:\n",
    "        # Creating labels for all_person_types\n",
    "        labels = [person_type in entity_type for person_type in all_person_types]\n",
    "        labels_person.append(labels)\n",
    "    else:\n",
    "        # If entity not found, fill with False labels\n",
    "        labels_person.append([False] * len(all_person_types))\n",
    "\n",
    "# Converting labels_person to numpy array\n",
    "labels_person = np.array(labels_person)\n",
    "\n",
    "# We select only the embeddings of the entities\n",
    "embeddings_person = scale_person_data[person_index]"
   ]
  },
  {
   "cell_type": "code",
   "execution_count": 10,
   "metadata": {
    "execution": {
     "iopub.execute_input": "2024-05-12T21:19:24.098138Z",
     "iopub.status.busy": "2024-05-12T21:19:24.097998Z",
     "iopub.status.idle": "2024-05-12T21:19:24.113523Z",
     "shell.execute_reply": "2024-05-12T21:19:24.112715Z"
    }
   },
   "outputs": [],
   "source": [
    "# We split the entities\n",
    "X_person_train, X_person_test, y_person_train, y_person_test  = train_test_split(embeddings_person, labels_person, test_size=0.2, random_state=42)"
   ]
  },
  {
   "cell_type": "code",
   "execution_count": 11,
   "metadata": {
    "execution": {
     "iopub.execute_input": "2024-05-12T21:19:24.117160Z",
     "iopub.status.busy": "2024-05-12T21:19:24.116503Z",
     "iopub.status.idle": "2024-05-12T21:19:24.129487Z",
     "shell.execute_reply": "2024-05-12T21:19:24.128849Z"
    }
   },
   "outputs": [
    {
     "name": "stdout",
     "output_type": "stream",
     "text": [
      "The number of entities following the condition is 44820, which is 66.42 %\n",
      "The number of entities not following the condition is 22656, which is 33.58 %\n",
      "The number of entities following the condition is 5251, which is 7.78 %\n",
      "The number of entities not following the condition is 62225, which is 92.22 %\n",
      "The number of entities following the condition is 2769, which is 4.1 %\n",
      "The number of entities not following the condition is 64707, which is 95.9 %\n",
      "The number of entities following the condition is 2137, which is 3.17 %\n",
      "The number of entities not following the condition is 65339, which is 96.83 %\n",
      "The number of entities following the condition is 1890, which is 2.8 %\n",
      "The number of entities not following the condition is 65586, which is 97.2 %\n",
      "The number of entities following the condition is 5152, which is 7.64 %\n",
      "The number of entities not following the condition is 62324, which is 92.36 %\n",
      "The total number of entities is  67476\n"
     ]
    }
   ],
   "source": [
    "# Statistics\n",
    "\n",
    "for idx in range(labels_person.shape[1]):\n",
    "    nb_condition = len(labels_person[labels_person[:,idx] == True])\n",
    "    nb_not_condition = len(labels_person[labels_person[:,idx] == False])\n",
    "\n",
    "    nb_total = nb_condition + nb_not_condition\n",
    "\n",
    "    print(f\"The number of entities following the condition is {nb_condition}, which is {round(100*nb_condition/nb_total,2)} %\")\n",
    "    print(f\"The number of entities not following the condition is {nb_not_condition}, which is {round(100*nb_not_condition/nb_total,2)} %\")\n",
    "print(\"The total number of entities is \", nb_total)"
   ]
  },
  {
   "cell_type": "code",
   "execution_count": 12,
   "metadata": {
    "execution": {
     "iopub.execute_input": "2024-05-12T21:19:24.133005Z",
     "iopub.status.busy": "2024-05-12T21:19:24.132350Z",
     "iopub.status.idle": "2024-05-12T22:49:11.242000Z",
     "shell.execute_reply": "2024-05-12T22:49:11.240992Z"
    }
   },
   "outputs": [
    {
     "name": "stdout",
     "output_type": "stream",
     "text": [
      "Fitting 5 folds for each of 6 candidates, totalling 30 fits\n"
     ]
    },
    {
     "name": "stdout",
     "output_type": "stream",
     "text": [
      "The best parameters are:  {'C': 2.5, 'kernel': 'rbf'}\n"
     ]
    },
    {
     "name": "stdout",
     "output_type": "stream",
     "text": [
      "The training accuracy is: 99.31 %\n"
     ]
    },
    {
     "name": "stdout",
     "output_type": "stream",
     "text": [
      "The testing accuracy is: 97.29 %\n"
     ]
    },
    {
     "name": "stdout",
     "output_type": "stream",
     "text": [
      "The kappa score (testing set) is 0.94\n"
     ]
    },
    {
     "name": "stdout",
     "output_type": "stream",
     "text": [
      "Fitting 5 folds for each of 6 candidates, totalling 30 fits\n"
     ]
    },
    {
     "name": "stdout",
     "output_type": "stream",
     "text": [
      "The best parameters are:  {'C': 7.5, 'kernel': 'rbf'}\n"
     ]
    },
    {
     "name": "stdout",
     "output_type": "stream",
     "text": [
      "The training accuracy is: 99.15 %\n"
     ]
    },
    {
     "name": "stdout",
     "output_type": "stream",
     "text": [
      "The testing accuracy is: 95.70 %\n"
     ]
    },
    {
     "name": "stdout",
     "output_type": "stream",
     "text": [
      "The kappa score (testing set) is 0.69\n"
     ]
    },
    {
     "name": "stdout",
     "output_type": "stream",
     "text": [
      "Fitting 5 folds for each of 6 candidates, totalling 30 fits\n"
     ]
    },
    {
     "name": "stdout",
     "output_type": "stream",
     "text": [
      "The best parameters are:  {'C': 2.5, 'kernel': 'rbf'}\n"
     ]
    },
    {
     "name": "stdout",
     "output_type": "stream",
     "text": [
      "The training accuracy is: 99.73 %\n"
     ]
    },
    {
     "name": "stdout",
     "output_type": "stream",
     "text": [
      "The testing accuracy is: 97.96 %\n"
     ]
    },
    {
     "name": "stdout",
     "output_type": "stream",
     "text": [
      "The kappa score (testing set) is 0.71\n"
     ]
    },
    {
     "name": "stdout",
     "output_type": "stream",
     "text": [
      "Fitting 5 folds for each of 6 candidates, totalling 30 fits\n"
     ]
    },
    {
     "name": "stdout",
     "output_type": "stream",
     "text": [
      "The best parameters are:  {'C': 2.5, 'kernel': 'rbf'}\n"
     ]
    },
    {
     "name": "stdout",
     "output_type": "stream",
     "text": [
      "The training accuracy is: 99.94 %\n"
     ]
    },
    {
     "name": "stdout",
     "output_type": "stream",
     "text": [
      "The testing accuracy is: 99.30 %\n"
     ]
    },
    {
     "name": "stdout",
     "output_type": "stream",
     "text": [
      "The kappa score (testing set) is 0.88\n"
     ]
    },
    {
     "name": "stdout",
     "output_type": "stream",
     "text": [
      "Fitting 5 folds for each of 6 candidates, totalling 30 fits\n"
     ]
    },
    {
     "name": "stderr",
     "output_type": "stream",
     "text": [
      "/scratch/users/k24043365/.conda/envs/kg_rag/lib/python3.11/site-packages/joblib/externals/loky/process_executor.py:752: UserWarning: A worker stopped while some jobs were given to the executor. This can be caused by a too short worker timeout or by a memory leak.\n",
      "  warnings.warn(\n"
     ]
    },
    {
     "name": "stdout",
     "output_type": "stream",
     "text": [
      "The best parameters are:  {'C': 1, 'kernel': 'rbf'}\n"
     ]
    },
    {
     "name": "stdout",
     "output_type": "stream",
     "text": [
      "The training accuracy is: 99.17 %\n"
     ]
    },
    {
     "name": "stdout",
     "output_type": "stream",
     "text": [
      "The testing accuracy is: 98.32 %\n"
     ]
    },
    {
     "name": "stdout",
     "output_type": "stream",
     "text": [
      "The kappa score (testing set) is 0.70\n"
     ]
    },
    {
     "name": "stdout",
     "output_type": "stream",
     "text": [
      "Fitting 5 folds for each of 6 candidates, totalling 30 fits\n"
     ]
    },
    {
     "name": "stderr",
     "output_type": "stream",
     "text": [
      "/scratch/users/k24043365/.conda/envs/kg_rag/lib/python3.11/site-packages/joblib/externals/loky/process_executor.py:752: UserWarning: A worker stopped while some jobs were given to the executor. This can be caused by a too short worker timeout or by a memory leak.\n",
      "  warnings.warn(\n"
     ]
    },
    {
     "name": "stdout",
     "output_type": "stream",
     "text": [
      "The best parameters are:  {'C': 2.5, 'kernel': 'rbf'}\n"
     ]
    },
    {
     "name": "stdout",
     "output_type": "stream",
     "text": [
      "The training accuracy is: 97.62 %\n"
     ]
    },
    {
     "name": "stdout",
     "output_type": "stream",
     "text": [
      "The testing accuracy is: 92.60 %\n"
     ]
    },
    {
     "name": "stdout",
     "output_type": "stream",
     "text": [
      "The kappa score (testing set) is 0.51\n"
     ]
    }
   ],
   "source": [
    "# Process SVM for all continents\n",
    "grid_person = [GridSearchCV(SVC(class_weight=\"balanced\", gamma=\"scale\"), param_grid, refit=True, verbose=1, scoring = make_scorer(cohen_kappa_score), n_jobs=16)]*len(all_person_types)\n",
    "\n",
    "distances_svm = []\n",
    "for idx, svm in enumerate(grid_person):\n",
    "    svm.fit(X_person_train, y_person_train[:,idx])\n",
    "\n",
    "    clf_person = svm.best_estimator_\n",
    "    print(\"The best parameters are: \", svm.best_params_)\n",
    "    print(\"The training accuracy is: {:.2f} %\".format(clf_person.score(X_person_train, y_person_train[:,idx])*100))\n",
    "    print(\"The testing accuracy is: {:.2f} %\".format(clf_person.score(X_person_test, y_person_test[:,idx])*100))\n",
    "    print(\"The kappa score (testing set) is {:.2f}\".format(cohen_kappa_score(clf_person.predict(X_person_test), y_person_test[:,idx])))\n",
    "\n",
    "    distances_svm.append(svm.best_estimator_.decision_function(scale_person_data).reshape(-1,1))"
   ]
  },
  {
   "cell_type": "markdown",
   "metadata": {},
   "source": [
    "### Projection into a smaller space"
   ]
  },
  {
   "cell_type": "code",
   "execution_count": 13,
   "metadata": {
    "execution": {
     "iopub.execute_input": "2024-05-12T22:49:11.246151Z",
     "iopub.status.busy": "2024-05-12T22:49:11.245991Z",
     "iopub.status.idle": "2024-05-12T22:49:11.250282Z",
     "shell.execute_reply": "2024-05-12T22:49:11.249632Z"
    }
   },
   "outputs": [],
   "source": [
    "# Project and add bias through decision function\n",
    "entity_person_proj = np.concatenate(distances_svm, axis=1)"
   ]
  },
  {
   "cell_type": "markdown",
   "metadata": {},
   "source": [
    "### Evaluation"
   ]
  },
  {
   "cell_type": "code",
   "execution_count": 14,
   "metadata": {
    "execution": {
     "iopub.execute_input": "2024-05-12T22:49:11.253134Z",
     "iopub.status.busy": "2024-05-12T22:49:11.253002Z",
     "iopub.status.idle": "2024-05-12T22:49:11.412123Z",
     "shell.execute_reply": "2024-05-12T22:49:11.411393Z"
    }
   },
   "outputs": [
    {
     "name": "stderr",
     "output_type": "stream",
     "text": [
      "/tmp/ipykernel_29348/2299432512.py:3: SettingWithCopyWarning: \n",
      "A value is trying to be set on a copy of a slice from a DataFrame.\n",
      "Try using .loc[row_indexer,col_indexer] = value instead\n",
      "\n",
      "See the caveats in the documentation: https://pandas.pydata.org/pandas-docs/stable/user_guide/indexing.html#returning-a-view-versus-a-copy\n",
      "  person_entities[\"labels\"] = labels_person.tolist()\n"
     ]
    }
   ],
   "source": [
    "# Concatenate all labels for each axis\n",
    "person_entities = entities_df.iloc[person_index]\n",
    "person_entities[\"labels\"] = labels_person.tolist()"
   ]
  },
  {
   "cell_type": "code",
   "execution_count": null,
   "metadata": {
    "execution": {
     "iopub.execute_input": "2024-05-12T23:03:50.886184Z",
     "iopub.status.busy": "2024-05-12T23:03:50.886037Z",
     "iopub.status.idle": "2024-05-13T01:27:17.146707Z",
     "shell.execute_reply": "2024-05-13T01:27:17.145826Z"
    }
   },
   "outputs": [],
   "source": [
    "# k parameter\n",
    "k=10\n",
    "\n",
    "# Global similarity score\n",
    "scores_raw = 0\n",
    "scores_proj = 0\n",
    "for idx in tqdm(person_index):\n",
    "    # Choose a ref\n",
    "    ref_name = person_entities['Entity'][idx]\n",
    "\n",
    "    # Before projection\n",
    "    closest_entity_raw = closest_neighbours(scale_person_data[idx], scale_person_data[person_index], person_entities, k)\n",
    "    scores_raw += similarity_score(ref_name, closest_entity_raw, person_entities)\n",
    "\n",
    "    # After projection\n",
    "    closest_entity = closest_neighbours(entity_person_proj[idx,:], entity_person_proj[person_index,:], person_entities, k)\n",
    "    scores_proj += similarity_score(ref_name, closest_entity, person_entities)\n",
    "\n",
    "scores_raw /= len(person_index)\n",
    "scores_proj /= len(person_index)"
   ]
  },
  {
   "cell_type": "code",
   "execution_count": 17,
   "metadata": {
    "execution": {
     "iopub.execute_input": "2024-05-13T01:27:17.150283Z",
     "iopub.status.busy": "2024-05-13T01:27:17.150129Z",
     "iopub.status.idle": "2024-05-13T01:27:17.154216Z",
     "shell.execute_reply": "2024-05-13T01:27:17.153583Z"
    }
   },
   "outputs": [
    {
     "name": "stdout",
     "output_type": "stream",
     "text": [
      "The similarity score before projection of the top10 entity is: 0.662\n",
      "The similarity score after projection of the top10 entity is: 0.938\n"
     ]
    }
   ],
   "source": [
    "print(f\"The similarity score before projection of the top{k} entity is: {round(scores_raw,3)}\")\n",
    "print(f\"The similarity score after projection of the top{k} entity is: {round(scores_proj,3)}\")"
   ]
  }
 ],
 "metadata": {
  "kernelspec": {
   "display_name": "kcl",
   "language": "python",
   "name": "python3"
  },
  "language_info": {
   "codemirror_mode": {
    "name": "ipython",
    "version": 3
   },
   "file_extension": ".py",
   "mimetype": "text/x-python",
   "name": "python",
   "nbconvert_exporter": "python",
   "pygments_lexer": "ipython3",
   "version": "3.11.7"
  }
 },
 "nbformat": 4,
 "nbformat_minor": 2
}
