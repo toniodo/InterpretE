{
 "cells": [
  {
   "cell_type": "markdown",
   "metadata": {},
   "source": [
    "# InterpretE experiments with FB15K-237"
   ]
  },
  {
   "cell_type": "code",
   "execution_count": 157,
   "metadata": {},
   "outputs": [],
   "source": [
    "from sklearn.svm import SVC\n",
    "from sklearn.model_selection import GridSearchCV , train_test_split\n",
    "from sklearn.preprocessing import StandardScaler\n",
    "from sklearn.metrics import cohen_kappa_score, make_scorer\n",
    "import numpy as np\n",
    "import pandas as pd\n",
    "from tqdm import tqdm\n",
    "from copy import deepcopy\n",
    "import torch\n",
    "from kge.util.io import load_checkpoint"
   ]
  },
  {
   "cell_type": "markdown",
   "metadata": {},
   "source": [
    "## Load entities with their embeddings"
   ]
  },
  {
   "cell_type": "code",
   "execution_count": 158,
   "metadata": {},
   "outputs": [
    {
     "name": "stdout",
     "output_type": "stream",
     "text": [
      "Loading Embeddings...\n"
     ]
    }
   ],
   "source": [
    "# Load entity type Dataframe\n",
    "entities_df = pd.read_csv('data/entities_types.csv', sep=',', header=0)\n",
    "\n",
    "\n",
    "#load YAGO Embedding\n",
    "checkpoint = load_checkpoint('../embeddings/fb15k-237-complex.pt') # Change the path of the model here\n",
    "model = checkpoint[\"model\"]\n",
    "tensor_embed: torch.Tensor = dict(checkpoint['model'][0])['_entity_embedder.embeddings.weight']\n",
    "all_arrays = tensor_embed.numpy()"
   ]
  },
  {
   "cell_type": "markdown",
   "metadata": {},
   "source": [
    "## Load dataset"
   ]
  },
  {
   "cell_type": "code",
   "execution_count": 159,
   "metadata": {},
   "outputs": [
    {
     "name": "stdout",
     "output_type": "stream",
     "text": [
      "Loading triples...\n"
     ]
    }
   ],
   "source": [
    "# Load dataset to get the relations\n",
    "print(\"Loading triples...\")\n",
    "cols_name = [\"head\", \"relation\", \"tail\"]\n",
    "NAME_SUBGRAPH = [\"train\", \"test\", \"valid\"]\n",
    "triples_df = pd.concat(\n",
    "    (pd.read_csv(\n",
    "        \"data/\" + f + '.csv',\n",
    "        sep=\"\\t\",\n",
    "        names=cols_name) for f in NAME_SUBGRAPH),\n",
    "    ignore_index=True)\n",
    "# Get distinct relations\n",
    "distinct_relations = triples_df[\"relation\"].unique()"
   ]
  },
  {
   "cell_type": "code",
   "execution_count": 160,
   "metadata": {},
   "outputs": [
    {
     "name": "stdout",
     "output_type": "stream",
     "text": [
      "Check if the relations exists...\n"
     ]
    }
   ],
   "source": [
    "# Dictionnary for all the boolean value of relation regarding entitiy\n",
    "value_relations = {relation: set() for relation in distinct_relations}\n",
    "\n",
    "print(\"Check if the relations exists...\")\n",
    "for _, row in triples_df.iterrows():\n",
    "    # Extract entity and relations\n",
    "    head = row[\"head\"]\n",
    "    relation = row[\"relation\"]\n",
    "    # Add the entity to the corresponding set\n",
    "    value_relations[relation].add(head)"
   ]
  },
  {
   "cell_type": "code",
   "execution_count": 161,
   "metadata": {},
   "outputs": [
    {
     "name": "stdout",
     "output_type": "stream",
     "text": [
      "Generate a global DataFrame with all the data...\n"
     ]
    }
   ],
   "source": [
    "print(\"Generate a global DataFrame with all the data...\")\n",
    "# Convert the sets into a boolean lists\n",
    "value_relations = {relation: [entity in value_relations[relation]\n",
    "                              for entity in entities_df[\"Entity\"]] for relation in distinct_relations}\n",
    "# Convert to a Pandas Dataframe\n",
    "relations_df = pd.DataFrame(value_relations)\n",
    "global_df = pd.concat((entities_df, relations_df), axis=1)"
   ]
  },
  {
   "cell_type": "markdown",
   "metadata": {},
   "source": [
    "## Utils"
   ]
  },
  {
   "cell_type": "code",
   "execution_count": 162,
   "metadata": {},
   "outputs": [],
   "source": [
    "# defining parameter range ofr GridSearch\n",
    "# Define the hyperparameter grid\n",
    "param_grid = [\n",
    "  {'C': [0.1, 1, 2.5, 5, 7.5, 10], 'kernel': ['rbf']},\n",
    " ]"
   ]
  },
  {
   "cell_type": "code",
   "execution_count": 163,
   "metadata": {},
   "outputs": [],
   "source": [
    "def similarity_score(ref, neighbours, df_with_labels, mode: str = \"one\"):\n",
    "    # Determine the label of the reference\n",
    "    label_ref = df_with_labels[df_with_labels['Entity']== ref]['labels'].to_list()[0]\n",
    "    \n",
    "    # Determine labels for all neighbors at once\n",
    "    all_neighbours_labels = np.array([df_with_labels[df_with_labels['Entity'] == name]['labels'].to_list()[0] for name in neighbours])\n",
    "\n",
    "    # Calculate intersection scores\n",
    "\n",
    "    if mode == \"one\":\n",
    "        intersect_labels = np.logical_and(label_ref, all_neighbours_labels)\n",
    "        # Sum the intersect labels along axis 1 (columns) and count non-zero elements\n",
    "        non_zero = np.count_nonzero(intersect_labels, axis=1)\n",
    "\n",
    "        # Count number of rows with non-zero elements\n",
    "        score = np.count_nonzero(non_zero)\n",
    "    elif mode == \"all\":\n",
    "        all_each_line = np.all(all_neighbours_labels == label_ref, axis=1)\n",
    "        # Count number of rows with non-zero elements\n",
    "        score = np.count_nonzero(all_each_line)\n",
    "    else:\n",
    "        raise ValueError(\"This is not a valid mode.\")\n",
    "\n",
    "    return score / len(neighbours)\n",
    "\n",
    "def closest_neighbours(ref_entity, other_entities, df_with_labels, k, mode: str = \"euclidean\"):\n",
    "    if mode == \"euclidean\":\n",
    "        relative_ref = other_entities - ref_entity\n",
    "        dist_to_ref = np.linalg.norm(relative_ref, axis=1)\n",
    "        k_closest_entity = np.argsort(dist_to_ref)[1:(k+1)]\n",
    "        return df_with_labels['Entity'].iloc[k_closest_entity]\n",
    "    elif mode == \"cosine\":\n",
    "        norm_ref = np.linalg.norm(ref_entity)\n",
    "        ref_norm = ref_entity / norm_ref\n",
    "        norm_other = np.linalg.norm(other_entities, axis=1)\n",
    "        normalized_other = np.divide(other_entities, norm_other.reshape(-1,1)) # division elementwise\n",
    "        cosine_sim = normalized_other.dot(ref_norm.T).reshape(-1,)\n",
    "        # We take the k elemnt with the highest score\n",
    "        k_closest_values = np.argsort(cosine_sim)[-(k+1):-1]\n",
    "        return df_with_labels['Entity'].iloc[k_closest_values]\n",
    "    raise ValueError(\"This is not a valid mode of similarity\")"
   ]
  },
  {
   "cell_type": "markdown",
   "metadata": {},
   "source": [
    "## SVM Person gender and nationality"
   ]
  },
  {
   "cell_type": "code",
   "execution_count": 164,
   "metadata": {},
   "outputs": [],
   "source": [
    "# Loads all the data related to humans\n",
    "entity_type = \"person_100007846\"\n",
    "\n",
    "triples_gender = triples_df[(triples_df['relation'] == 'gender')]\n",
    "gender_head = set(triples_gender['head'].to_list())\n",
    "\n",
    "triples_nationality = triples_df[(triples_df['relation'] == 'nationality')]\n",
    "nationality_head = set(triples_nationality[\"head\"].to_list())\n",
    "\n",
    "\n",
    "human_head = entities_df[entities_df['Entity'].isin(gender_head) & entities_df[\"type\"].apply(lambda x: entity_type in x) & entities_df['Entity'].isin(nationality_head)]\n",
    "human_index = np.array(human_head.index, dtype=int)"
   ]
  },
  {
   "cell_type": "code",
   "execution_count": 165,
   "metadata": {},
   "outputs": [],
   "source": [
    "# Scale embeddings only to concerned data\n",
    "scale_human_data = deepcopy(all_arrays)\n",
    "scale = StandardScaler()\n",
    "scale_human_data[human_index] = scale.fit_transform(scale_human_data[human_index])"
   ]
  },
  {
   "cell_type": "code",
   "execution_count": 166,
   "metadata": {},
   "outputs": [],
   "source": [
    "top_nationalities = [\"United States of America\", \"England\", \"United Kingdom\", \"India\", \"Canada\"]\n",
    "SVC_human: list[GridSearchCV] = [GridSearchCV(SVC(class_weight='balanced'), param_grid, refit = True, verbose = 1, scoring = make_scorer(cohen_kappa_score), n_jobs=-1)]*(len(top_nationalities)+1)"
   ]
  },
  {
   "cell_type": "markdown",
   "metadata": {},
   "source": [
    "### Label data"
   ]
  },
  {
   "cell_type": "code",
   "execution_count": 167,
   "metadata": {},
   "outputs": [
    {
     "name": "stderr",
     "output_type": "stream",
     "text": [
      "100%|██████████| 5/5 [00:10<00:00,  2.17s/it]\n"
     ]
    }
   ],
   "source": [
    "labels_globals = [np.array([nationality in set(triples_nationality[triples_nationality['head'] == human]['tail'].to_list()) for human in entities_df['Entity'][human_index]]) for nationality in tqdm(top_nationalities)]"
   ]
  },
  {
   "cell_type": "code",
   "execution_count": 168,
   "metadata": {},
   "outputs": [],
   "source": [
    "labels_gender = np.array([triples_gender[triples_gender['head'] == human]['tail'].to_list()[0] == 'male organism' for human in entities_df['Entity'][human_index]])"
   ]
  },
  {
   "cell_type": "code",
   "execution_count": 169,
   "metadata": {},
   "outputs": [],
   "source": [
    "labels_globals.append(labels_gender)"
   ]
  },
  {
   "cell_type": "markdown",
   "metadata": {},
   "source": [
    "### Train SVM"
   ]
  },
  {
   "cell_type": "code",
   "execution_count": 170,
   "metadata": {},
   "outputs": [
    {
     "name": "stdout",
     "output_type": "stream",
     "text": [
      "Fitting 5 folds for each of 6 candidates, totalling 30 fits\n",
      "The training accuracy is: 99.87 %\n",
      "The testing accuracy is: 91.10 %\n",
      "The testing kappa score is 0.91\n",
      "The best parameters are {'C': 5, 'kernel': 'rbf'}\n",
      "Fitting 5 folds for each of 6 candidates, totalling 30 fits\n",
      "The training accuracy is: 90.23 %\n",
      "The testing accuracy is: 76.92 %\n",
      "The testing kappa score is 0.77\n",
      "The best parameters are {'C': 1, 'kernel': 'rbf'}\n",
      "Fitting 5 folds for each of 6 candidates, totalling 30 fits\n",
      "The training accuracy is: 83.72 %\n",
      "The testing accuracy is: 56.55 %\n",
      "The testing kappa score is 0.57\n",
      "The best parameters are {'C': 1, 'kernel': 'rbf'}\n",
      "Fitting 5 folds for each of 6 candidates, totalling 30 fits\n",
      "The training accuracy is: 99.40 %\n",
      "The testing accuracy is: 98.45 %\n",
      "The testing kappa score is 0.98\n",
      "The best parameters are {'C': 0.1, 'kernel': 'rbf'}\n",
      "Fitting 5 folds for each of 6 candidates, totalling 30 fits\n",
      "The training accuracy is: 93.65 %\n",
      "The testing accuracy is: 85.86 %\n",
      "The testing kappa score is 0.86\n",
      "The best parameters are {'C': 0.1, 'kernel': 'rbf'}\n",
      "Fitting 5 folds for each of 6 candidates, totalling 30 fits\n",
      "The training accuracy is: 100.00 %\n",
      "The testing accuracy is: 92.62 %\n",
      "The testing kappa score is 0.93\n",
      "The best parameters are {'C': 5, 'kernel': 'rbf'}\n"
     ]
    }
   ],
   "source": [
    "decision_human = []\n",
    "for idx, svm in enumerate(SVC_human):\n",
    "    # We split the entities\n",
    "    X_human_train, X_human_test, y_human_train, y_human_test  = train_test_split(scale_human_data[human_index], labels_globals[idx], test_size=0.2, random_state=42)\n",
    "    svm.fit(X_human_train, y_human_train)\n",
    "    print(\"The training accuracy is: {:.2f} %\".format(svm.score(X_human_train, y_human_train)*100))\n",
    "    print(\"The testing accuracy is: {:.2f} %\".format(svm.score(X_human_test, y_human_test)*100))\n",
    "    print(\"The testing kappa score is {:.2f}\".format(cohen_kappa_score(svm.predict(X_human_test), y_human_test)))\n",
    "    print(\"The best parameters are\", svm.best_params_)\n",
    "    decision_human.append(svm.best_estimator_.decision_function(scale_human_data).reshape(-1, 1))"
   ]
  },
  {
   "cell_type": "markdown",
   "metadata": {},
   "source": [
    "### Project into the 2d space"
   ]
  },
  {
   "cell_type": "code",
   "execution_count": 171,
   "metadata": {},
   "outputs": [],
   "source": [
    "# Project and add bias through decision function\n",
    "human_proj = np.concatenate(decision_human, axis=1)"
   ]
  },
  {
   "cell_type": "markdown",
   "metadata": {},
   "source": [
    "### Evaluation"
   ]
  },
  {
   "cell_type": "code",
   "execution_count": 172,
   "metadata": {},
   "outputs": [
    {
     "name": "stderr",
     "output_type": "stream",
     "text": [
      "/tmp/ipykernel_27685/1674643406.py:3: SettingWithCopyWarning: \n",
      "A value is trying to be set on a copy of a slice from a DataFrame.\n",
      "Try using .loc[row_indexer,col_indexer] = value instead\n",
      "\n",
      "See the caveats in the documentation: https://pandas.pydata.org/pandas-docs/stable/user_guide/indexing.html#returning-a-view-versus-a-copy\n",
      "  human_head[\"labels\"] = labels_globals.tolist()\n"
     ]
    }
   ],
   "source": [
    "# Add a new column with all labels\n",
    "labels_globals = np.array(labels_globals).T\n",
    "human_head[\"labels\"] = labels_globals.tolist()"
   ]
  },
  {
   "cell_type": "code",
   "execution_count": 174,
   "metadata": {},
   "outputs": [],
   "source": [
    "male_not_US = np.intersect1d(np.where(labels_globals[:, 0] == False), np.where(labels_globals[:, -1] == True))\n",
    "female_not_US = np.intersect1d(np.where(labels_globals[:, 0] == False), np.where(labels_globals[:, -1] == False))\n",
    "male_US = np.intersect1d(np.where(labels_globals[:, 0] == True), np.where(labels_globals[:, -1] == True))\n",
    "female_US = np.intersect1d(np.where(labels_globals[:, 0] == True), np.where(labels_globals[:, -1] == False))\n"
   ]
  },
  {
   "cell_type": "code",
   "execution_count": 175,
   "metadata": {},
   "outputs": [
    {
     "data": {
      "image/png": "[encoded data removed]",
      "text/plain": [
       "<Figure size 640x480 with 1 Axes>"
      ]
     },
     "metadata": {},
     "output_type": "display_data"
    }
   ],
   "source": [
    "import matplotlib.pyplot as plt\n",
    "\n",
    "observed_human_proj = human_proj[:, [0, -1]]\n",
    "\n",
    "X, Y = observed_human_proj[human_index,0], observed_human_proj[human_index,1]\n",
    "\n",
    "plt.scatter(X[female_not_US], Y[female_not_US], label='Not American Female', color='slateblue', alpha=0.5)\n",
    "\n",
    "plt.scatter(X[male_not_US], Y[male_not_US], label='Not American Male', color=\"crimson\", alpha=0.5)\n",
    "\n",
    "plt.scatter(X[female_US], Y[female_US], label='American Female', color=\"goldenrod\", alpha=0.5)\n",
    "\n",
    "plt.scatter(X[male_US], Y[male_US], label='American Male', color='teal', alpha=0.5)\n",
    "\n",
    "plt.title('2D projection for gender and American nationality')\n",
    "plt.xlabel(\"American nationality\")\n",
    "plt.ylabel(\"Gender\")\n",
    "plt.grid()\n",
    "plt.legend()\n",
    "plt.show()"
   ]
  },
  {
   "cell_type": "markdown",
   "metadata": {},
   "source": [
    "### Neighbourhood similarity"
   ]
  },
  {
   "cell_type": "code",
   "execution_count": 176,
   "metadata": {},
   "outputs": [
    {
     "name": "stderr",
     "output_type": "stream",
     "text": [
      "100%|██████████| 4343/4343 [01:21<00:00, 53.03it/s]\n"
     ]
    }
   ],
   "source": [
    "# Global similarity score\n",
    "k=10\n",
    "scores_raw = 0\n",
    "scores_proj = 0\n",
    "for idx in tqdm(human_index):\n",
    "    # Choose a ref\n",
    "    ref_proj = human_proj[idx,:]\n",
    "    ref_name = human_head['Entity'][idx]\n",
    "    # Before projection\n",
    "    ref_entity = scale_human_data[idx,:]\n",
    "    closest_entity_raw = closest_neighbours(ref_entity, scale_human_data[human_index], human_head, k)\n",
    "    scores_raw += similarity_score(ref_name, closest_entity_raw, human_head, mode=\"all\")\n",
    "\n",
    "    # After projection\n",
    "    closest_entity = closest_neighbours(ref_proj, human_proj[human_index], human_head, k)\n",
    "    scores_proj += similarity_score(ref_name, closest_entity, human_head, mode=\"all\")\n",
    "\n",
    "scores_raw /= len(human_index)\n",
    "scores_proj /= len(human_index)"
   ]
  },
  {
   "cell_type": "code",
   "execution_count": 177,
   "metadata": {},
   "outputs": [
    {
     "name": "stdout",
     "output_type": "stream",
     "text": [
      "The similarity score before projection of the top10 entity is: 0.563\n",
      "The similarity score after projection of the top10 entity is: 0.932\n"
     ]
    }
   ],
   "source": [
    "print(f\"The similarity score before projection of the top{k} entity is: {round(scores_raw,3)}\")\n",
    "print(f\"The similarity score after projection of the top{k} entity is: {round(scores_proj,3)}\")"
   ]
  },
  {
   "cell_type": "markdown",
   "metadata": {},
   "source": [
    "## SVM on Organizations and relation citytown"
   ]
  },
  {
   "cell_type": "code",
   "execution_count": 178,
   "metadata": {},
   "outputs": [],
   "source": [
    "# Loads all the data related to humans\n",
    "entity_type = \"organization_108008335\"\n",
    "\n",
    "triples_organization_location = triples_df[(triples_df['relation'] == 'citytown')]\n",
    "organization_head = set(triples_organization_location['head'].to_list())\n",
    "\n",
    "\n",
    "organization_head = entities_df[entities_df['Entity'].isin(organization_head) & entities_df[\"type\"].apply(lambda x: entity_type in x)]\n",
    "organization_index = np.array(organization_head.index, dtype=int)"
   ]
  },
  {
   "cell_type": "code",
   "execution_count": 179,
   "metadata": {},
   "outputs": [],
   "source": [
    "LOCATIONS_PATH = \"data/map_location_country.csv\"\n",
    "all_locations = pd.read_csv(LOCATIONS_PATH, sep=\",\", header=0, names=[\"cities\", \"countries\"])\n",
    "\n",
    "dict_locations = dict(all_locations.values)"
   ]
  },
  {
   "cell_type": "code",
   "execution_count": 180,
   "metadata": {},
   "outputs": [],
   "source": [
    "# Scale embeddings only to concerned data\n",
    "scale_organization_data = deepcopy(all_arrays)\n",
    "scale = StandardScaler()\n",
    "scale_organization_data[organization_index] = scale.fit_transform(scale_organization_data[organization_index])"
   ]
  },
  {
   "cell_type": "code",
   "execution_count": 181,
   "metadata": {},
   "outputs": [],
   "source": [
    "top_locations = [\"United States\", \"United Kingdom\", \"Japan\", \"Canada\", \"Germany\"]\n",
    "SVC_organization: list[GridSearchCV] = [GridSearchCV(SVC(class_weight='balanced'), param_grid, refit = True, verbose = 1, scoring = make_scorer(cohen_kappa_score), n_jobs=-1)]*len(top_locations)"
   ]
  },
  {
   "cell_type": "code",
   "execution_count": 182,
   "metadata": {},
   "outputs": [
    {
     "name": "stderr",
     "output_type": "stream",
     "text": [
      "100%|██████████| 5/5 [00:01<00:00,  4.32it/s]\n"
     ]
    }
   ],
   "source": [
    "def isInCountry(location, country_ref):\n",
    "    if location in dict_locations.keys():\n",
    "        country = dict_locations[location]\n",
    "        return country == country_ref\n",
    "    return False\n",
    "\n",
    "labels_organization = [np.array([isInCountry(triples_organization_location[triples_organization_location['head'] == organization]['tail'].to_list()[0], location) for organization in entities_df['Entity'][organization_index]]) for location in tqdm(top_locations)]"
   ]
  },
  {
   "cell_type": "code",
   "execution_count": 183,
   "metadata": {},
   "outputs": [
    {
     "name": "stdout",
     "output_type": "stream",
     "text": [
      "Fitting 5 folds for each of 6 candidates, totalling 30 fits\n",
      "The training accuracy is: 100.00 %\n",
      "The testing accuracy is: 87.93 %\n",
      "The testing kappa score is 0.88\n",
      "The best parameters are {'C': 5, 'kernel': 'rbf'}\n",
      "Fitting 5 folds for each of 6 candidates, totalling 30 fits\n",
      "The training accuracy is: 97.90 %\n",
      "The testing accuracy is: 89.22 %\n",
      "The testing kappa score is 0.89\n",
      "The best parameters are {'C': 1, 'kernel': 'rbf'}\n",
      "Fitting 5 folds for each of 6 candidates, totalling 30 fits\n",
      "The training accuracy is: 100.00 %\n",
      "The testing accuracy is: 90.57 %\n",
      "The testing kappa score is 0.91\n",
      "The best parameters are {'C': 1, 'kernel': 'rbf'}\n",
      "Fitting 5 folds for each of 6 candidates, totalling 30 fits\n",
      "The training accuracy is: 87.95 %\n",
      "The testing accuracy is: 71.71 %\n",
      "The testing kappa score is 0.72\n",
      "The best parameters are {'C': 0.1, 'kernel': 'rbf'}\n",
      "Fitting 5 folds for each of 6 candidates, totalling 30 fits\n",
      "The training accuracy is: 100.00 %\n",
      "The testing accuracy is: 56.32 %\n",
      "The testing kappa score is 0.56\n",
      "The best parameters are {'C': 0.1, 'kernel': 'rbf'}\n"
     ]
    }
   ],
   "source": [
    "decision_organization = []\n",
    "for idx, svm in enumerate(SVC_organization):\n",
    "    # We split the entities\n",
    "    X_organization_train, X_organization_test, y_organization_train, y_organization_test  = train_test_split(scale_organization_data[organization_index], labels_organization[idx], test_size=0.2, random_state=42)\n",
    "    svm.fit(X_organization_train, y_organization_train)\n",
    "    print(\"The training accuracy is: {:.2f} %\".format(svm.score(X_organization_train, y_organization_train)*100))\n",
    "    print(\"The testing accuracy is: {:.2f} %\".format(svm.score(X_organization_test, y_organization_test)*100))\n",
    "    print(\"The testing kappa score is {:.2f}\".format(cohen_kappa_score(svm.predict(X_organization_test), y_organization_test)))\n",
    "    print(\"The best parameters are\", svm.best_params_)\n",
    "    decision_organization.append(svm.best_estimator_.decision_function(scale_organization_data).reshape(-1, 1))"
   ]
  },
  {
   "cell_type": "markdown",
   "metadata": {},
   "source": [
    "### Projection into the new space"
   ]
  },
  {
   "cell_type": "code",
   "execution_count": 184,
   "metadata": {},
   "outputs": [],
   "source": [
    "# Project and add bias through decision function\n",
    "organization_proj = np.concatenate(decision_organization, axis=1)"
   ]
  },
  {
   "cell_type": "markdown",
   "metadata": {},
   "source": [
    "## Evaluation"
   ]
  },
  {
   "cell_type": "code",
   "execution_count": 185,
   "metadata": {},
   "outputs": [
    {
     "name": "stderr",
     "output_type": "stream",
     "text": [
      "/tmp/ipykernel_27685/548220679.py:3: SettingWithCopyWarning: \n",
      "A value is trying to be set on a copy of a slice from a DataFrame.\n",
      "Try using .loc[row_indexer,col_indexer] = value instead\n",
      "\n",
      "See the caveats in the documentation: https://pandas.pydata.org/pandas-docs/stable/user_guide/indexing.html#returning-a-view-versus-a-copy\n",
      "  organization_head[\"labels\"] = labels_organization.tolist()\n"
     ]
    }
   ],
   "source": [
    "# Add a new column with all labels\n",
    "labels_organization = np.array(labels_organization).T\n",
    "organization_head[\"labels\"] = labels_organization.tolist()"
   ]
  },
  {
   "cell_type": "markdown",
   "metadata": {},
   "source": [
    "### Neighbourhood similarity"
   ]
  },
  {
   "cell_type": "code",
   "execution_count": 187,
   "metadata": {},
   "outputs": [
    {
     "name": "stderr",
     "output_type": "stream",
     "text": [
      "100%|██████████| 758/758 [00:05<00:00, 129.20it/s]\n"
     ]
    }
   ],
   "source": [
    "# Global similarity score\n",
    "k=10\n",
    "scores_raw = 0\n",
    "scores_proj = 0\n",
    "for idx in tqdm(organization_index):\n",
    "    # Choose a ref\n",
    "    ref_proj = organization_proj[idx,:]\n",
    "    ref_name = organization_head['Entity'][idx]\n",
    "    # Before projection\n",
    "    ref_entity = scale_organization_data[idx,:]\n",
    "    closest_entity_raw = closest_neighbours(ref_entity, scale_organization_data[organization_index], organization_head, k)\n",
    "    scores_raw += similarity_score(ref_name, closest_entity_raw, organization_head, mode=\"all\")\n",
    "\n",
    "    # After projection\n",
    "    closest_entity = closest_neighbours(ref_proj, organization_proj[organization_index], organization_head, k)\n",
    "    scores_proj += similarity_score(ref_name, closest_entity, organization_head, mode=\"all\")\n",
    "\n",
    "scores_raw /= len(organization_index)\n",
    "scores_proj /= len(organization_index)"
   ]
  },
  {
   "cell_type": "code",
   "execution_count": 188,
   "metadata": {},
   "outputs": [
    {
     "name": "stdout",
     "output_type": "stream",
     "text": [
      "The similarity score before projection of the top10 entity is: 0.768\n",
      "The similarity score after projection of the top10 entity is: 0.96\n"
     ]
    }
   ],
   "source": [
    "print(f\"The similarity score before projection of the top{k} entity is: {round(scores_raw,3)}\")\n",
    "print(f\"The similarity score after projection of the top{k} entity is: {round(scores_proj,3)}\")"
   ]
  },
  {
   "cell_type": "markdown",
   "metadata": {},
   "source": [
    "### SVM on film_release_region"
   ]
  },
  {
   "cell_type": "code",
   "execution_count": 189,
   "metadata": {},
   "outputs": [],
   "source": [
    "# Loads all the data related to movies\n",
    "entity_type = \"movie_106613686\"\n",
    "\n",
    "triples_film_region = triples_df[(triples_df['relation'] == 'film_release_region')]\n",
    "film_region_head = set(triples_film_region['head'].to_list())\n",
    "\n",
    "\n",
    "film_region_head = entities_df[entities_df['Entity'].isin(film_region_head) & entities_df[\"type\"].apply(lambda x: entity_type in x)]\n",
    "film_region_index = np.array(film_region_head.index, dtype=int)"
   ]
  },
  {
   "cell_type": "code",
   "execution_count": 190,
   "metadata": {},
   "outputs": [],
   "source": [
    "# Scale embeddings only to concerned data\n",
    "scale_film_region_data = deepcopy(all_arrays)\n",
    "scale = StandardScaler()\n",
    "scale_film_region_data[film_region_index] = scale.fit_transform(scale_film_region_data[film_region_index])"
   ]
  },
  {
   "cell_type": "code",
   "execution_count": 191,
   "metadata": {},
   "outputs": [],
   "source": [
    "top_regions = [\"United States of America\", \"Sweden\", \"France\", \"Spain\", \"Finland\"]\n",
    "SVC_film_region: list[GridSearchCV] = [GridSearchCV(SVC(class_weight='balanced'), param_grid, refit = True, verbose = 1, scoring = make_scorer(cohen_kappa_score), n_jobs=-1)]*len(top_regions)"
   ]
  },
  {
   "cell_type": "markdown",
   "metadata": {},
   "source": [
    "### Label data"
   ]
  },
  {
   "cell_type": "code",
   "execution_count": 192,
   "metadata": {},
   "outputs": [
    {
     "name": "stderr",
     "output_type": "stream",
     "text": [
      "100%|██████████| 5/5 [00:07<00:00,  1.55s/it]\n"
     ]
    }
   ],
   "source": [
    "labels_film_region = [np.array([region in triples_film_region[triples_film_region['head'] == film]['tail'].to_list() for film in entities_df['Entity'][film_region_index]]) for region in tqdm(top_regions)]"
   ]
  },
  {
   "cell_type": "markdown",
   "metadata": {},
   "source": [
    "### Train SVM"
   ]
  },
  {
   "cell_type": "code",
   "execution_count": 193,
   "metadata": {},
   "outputs": [
    {
     "name": "stdout",
     "output_type": "stream",
     "text": [
      "Fitting 5 folds for each of 6 candidates, totalling 30 fits\n",
      "The training accuracy is: 99.17 %\n",
      "The testing accuracy is: 7.37 %\n",
      "The testing kappa score is 0.07\n",
      "The best parameters are {'C': 1, 'kernel': 'rbf'}\n",
      "Fitting 5 folds for each of 6 candidates, totalling 30 fits\n",
      "The training accuracy is: 96.62 %\n",
      "The testing accuracy is: 88.47 %\n",
      "The testing kappa score is 0.88\n",
      "The best parameters are {'C': 1, 'kernel': 'rbf'}\n",
      "Fitting 5 folds for each of 6 candidates, totalling 30 fits\n",
      "The training accuracy is: 94.62 %\n",
      "The testing accuracy is: 87.64 %\n",
      "The testing kappa score is 0.88\n",
      "The best parameters are {'C': 1, 'kernel': 'rbf'}\n",
      "Fitting 5 folds for each of 6 candidates, totalling 30 fits\n",
      "The training accuracy is: 93.07 %\n",
      "The testing accuracy is: 86.25 %\n",
      "The testing kappa score is 0.86\n",
      "The best parameters are {'C': 1, 'kernel': 'rbf'}\n",
      "Fitting 5 folds for each of 6 candidates, totalling 30 fits\n",
      "The training accuracy is: 98.75 %\n",
      "The testing accuracy is: 85.21 %\n",
      "The testing kappa score is 0.85\n",
      "The best parameters are {'C': 2.5, 'kernel': 'rbf'}\n"
     ]
    }
   ],
   "source": [
    "decision_film_region = []\n",
    "for idx, svm in enumerate(SVC_film_region):\n",
    "    # We split the entities\n",
    "    X_film_region_train, X_film_region_test, y_film_region_train, y_film_region_test  = train_test_split(scale_film_region_data[film_region_index], labels_film_region[idx], test_size=0.2, random_state=42)\n",
    "    svm.fit(X_film_region_train, y_film_region_train)\n",
    "    print(\"The training accuracy is: {:.2f} %\".format(svm.score(X_film_region_train, y_film_region_train)*100))\n",
    "    print(\"The testing accuracy is: {:.2f} %\".format(svm.score(X_film_region_test, y_film_region_test)*100))\n",
    "    print(\"The testing kappa score is {:.2f}\".format(cohen_kappa_score(svm.predict(X_film_region_test), y_film_region_test)))\n",
    "    print(\"The best parameters are\", svm.best_params_)\n",
    "    decision_film_region.append(svm.best_estimator_.decision_function(scale_film_region_data).reshape(-1, 1))"
   ]
  },
  {
   "cell_type": "markdown",
   "metadata": {},
   "source": [
    "### Projection into the new space"
   ]
  },
  {
   "cell_type": "code",
   "execution_count": 194,
   "metadata": {},
   "outputs": [],
   "source": [
    "# Project and add bias through decision function\n",
    "film_region_proj = np.concatenate(decision_film_region, axis=1)"
   ]
  },
  {
   "cell_type": "markdown",
   "metadata": {},
   "source": [
    "### Evaluation"
   ]
  },
  {
   "cell_type": "code",
   "execution_count": 195,
   "metadata": {},
   "outputs": [
    {
     "name": "stderr",
     "output_type": "stream",
     "text": [
      "/tmp/ipykernel_27685/3989658225.py:3: SettingWithCopyWarning: \n",
      "A value is trying to be set on a copy of a slice from a DataFrame.\n",
      "Try using .loc[row_indexer,col_indexer] = value instead\n",
      "\n",
      "See the caveats in the documentation: https://pandas.pydata.org/pandas-docs/stable/user_guide/indexing.html#returning-a-view-versus-a-copy\n",
      "  film_region_head[\"labels\"] = labels_film_region.tolist()\n"
     ]
    }
   ],
   "source": [
    "# Add a new column with all labels\n",
    "labels_film_region = np.array(labels_film_region).T\n",
    "film_region_head[\"labels\"] = labels_film_region.tolist()"
   ]
  },
  {
   "cell_type": "markdown",
   "metadata": {},
   "source": [
    "### Neighbourhood similarity"
   ]
  },
  {
   "cell_type": "code",
   "execution_count": 197,
   "metadata": {},
   "outputs": [
    {
     "name": "stderr",
     "output_type": "stream",
     "text": [
      "100%|██████████| 1204/1204 [00:11<00:00, 103.07it/s]\n"
     ]
    }
   ],
   "source": [
    "# Global similarity score\n",
    "k=10\n",
    "scores_raw = 0\n",
    "scores_proj = 0\n",
    "for idx in tqdm(film_region_index):\n",
    "    # Choose a ref\n",
    "    ref_proj = film_region_proj[idx,:]\n",
    "    ref_name = film_region_head['Entity'][idx]\n",
    "    # Before projection\n",
    "    ref_entity = scale_film_region_data[idx,:]\n",
    "    closest_entity_raw = closest_neighbours(ref_entity, scale_film_region_data[film_region_index], film_region_head, k)\n",
    "    scores_raw += similarity_score(ref_name, closest_entity_raw, film_region_head, mode=\"all\")\n",
    "\n",
    "    # After projection\n",
    "    closest_entity = closest_neighbours(ref_proj, film_region_proj[film_region_index], film_region_head, k)\n",
    "    scores_proj += similarity_score(ref_name, closest_entity, film_region_head, mode=\"all\")\n",
    "\n",
    "scores_raw /= len(film_region_index)\n",
    "scores_proj /= len(film_region_index)"
   ]
  },
  {
   "cell_type": "code",
   "execution_count": 198,
   "metadata": {},
   "outputs": [
    {
     "name": "stdout",
     "output_type": "stream",
     "text": [
      "The similarity score before projection of the top10 entity is: 0.661\n",
      "The similarity score after projection of the top10 entity is: 0.892\n"
     ]
    }
   ],
   "source": [
    "print(f\"The similarity score before projection of the top{k} entity is: {round(scores_raw,3)}\")\n",
    "print(f\"The similarity score after projection of the top{k} entity is: {round(scores_proj,3)}\")"
   ]
  },
  {
   "cell_type": "markdown",
   "metadata": {},
   "source": [
    "### SVM on film genre"
   ]
  },
  {
   "cell_type": "code",
   "execution_count": 199,
   "metadata": {},
   "outputs": [],
   "source": [
    "# Loads all the data related to movies\n",
    "entity_type = \"movie_106613686\"\n",
    "\n",
    "triples_film_region = triples_df[(triples_df['relation'] == 'genre')]\n",
    "film_region_head = set(triples_film_region['head'].to_list())\n",
    "\n",
    "\n",
    "film_region_head = entities_df[entities_df['Entity'].isin(film_region_head) & entities_df[\"type\"].apply(lambda x: entity_type in x)]\n",
    "film_region_index = np.array(film_region_head.index, dtype=int)"
   ]
  },
  {
   "cell_type": "code",
   "execution_count": 200,
   "metadata": {},
   "outputs": [],
   "source": [
    "# Scale embeddings only to concerned data\n",
    "scale_film_region_data = deepcopy(all_arrays)\n",
    "scale = StandardScaler()\n",
    "scale_film_region_data[film_region_index] = scale.fit_transform(scale_film_region_data[film_region_index])"
   ]
  },
  {
   "cell_type": "code",
   "execution_count": 201,
   "metadata": {},
   "outputs": [],
   "source": [
    "top_regions = [\"drama film\", \"comedy film\", \"romance film\", \"thriller\", \"action film\"]\n",
    "SVC_film_region: list[GridSearchCV] = [GridSearchCV(SVC(class_weight='balanced'), param_grid, refit = True, verbose = 1, scoring = make_scorer(cohen_kappa_score), n_jobs=-1)]*len(top_regions)"
   ]
  },
  {
   "cell_type": "markdown",
   "metadata": {},
   "source": [
    "### Label data"
   ]
  },
  {
   "cell_type": "code",
   "execution_count": 202,
   "metadata": {},
   "outputs": [
    {
     "name": "stderr",
     "output_type": "stream",
     "text": [
      "100%|██████████| 5/5 [00:07<00:00,  1.45s/it]\n"
     ]
    }
   ],
   "source": [
    "labels_film_region = [np.array([region in triples_film_region[triples_film_region['head'] == film]['tail'].to_list() for film in entities_df['Entity'][film_region_index]]) for region in tqdm(top_regions)]"
   ]
  },
  {
   "cell_type": "markdown",
   "metadata": {},
   "source": [
    "### Train SVM"
   ]
  },
  {
   "cell_type": "code",
   "execution_count": 203,
   "metadata": {},
   "outputs": [
    {
     "name": "stdout",
     "output_type": "stream",
     "text": [
      "Fitting 5 folds for each of 6 candidates, totalling 30 fits\n",
      "The training accuracy is: 85.47 %\n",
      "The testing accuracy is: 66.91 %\n",
      "The testing kappa score is 0.67\n",
      "The best parameters are {'C': 1, 'kernel': 'rbf'}\n",
      "Fitting 5 folds for each of 6 candidates, totalling 30 fits\n",
      "The training accuracy is: 96.39 %\n",
      "The testing accuracy is: 77.52 %\n",
      "The testing kappa score is 0.78\n",
      "The best parameters are {'C': 1, 'kernel': 'rbf'}\n",
      "Fitting 5 folds for each of 6 candidates, totalling 30 fits\n",
      "The training accuracy is: 93.67 %\n",
      "The testing accuracy is: 56.35 %\n",
      "The testing kappa score is 0.56\n",
      "The best parameters are {'C': 1, 'kernel': 'rbf'}\n",
      "Fitting 5 folds for each of 6 candidates, totalling 30 fits\n",
      "The training accuracy is: 93.05 %\n",
      "The testing accuracy is: 75.00 %\n",
      "The testing kappa score is 0.75\n",
      "The best parameters are {'C': 1, 'kernel': 'rbf'}\n",
      "Fitting 5 folds for each of 6 candidates, totalling 30 fits\n",
      "The training accuracy is: 99.60 %\n",
      "The testing accuracy is: 72.70 %\n",
      "The testing kappa score is 0.73\n",
      "The best parameters are {'C': 2.5, 'kernel': 'rbf'}\n"
     ]
    }
   ],
   "source": [
    "decision_film_region = []\n",
    "for idx, svm in enumerate(SVC_film_region):\n",
    "    # We split the entities\n",
    "    X_film_region_train, X_film_region_test, y_film_region_train, y_film_region_test  = train_test_split(scale_film_region_data[film_region_index], labels_film_region[idx], test_size=0.2, random_state=42)\n",
    "    svm.fit(X_film_region_train, y_film_region_train)\n",
    "    print(\"The training accuracy is: {:.2f} %\".format(svm.score(X_film_region_train, y_film_region_train)*100))\n",
    "    print(\"The testing accuracy is: {:.2f} %\".format(svm.score(X_film_region_test, y_film_region_test)*100))\n",
    "    print(\"The testing kappa score is {:.2f}\".format(cohen_kappa_score(svm.predict(X_film_region_test), y_film_region_test)))\n",
    "    print(\"The best parameters are\", svm.best_params_)\n",
    "    decision_film_region.append(svm.best_estimator_.decision_function(scale_film_region_data).reshape(-1, 1))"
   ]
  },
  {
   "cell_type": "markdown",
   "metadata": {},
   "source": [
    "### Projection into the new space"
   ]
  },
  {
   "cell_type": "code",
   "execution_count": 204,
   "metadata": {},
   "outputs": [],
   "source": [
    "# Project and add bias through decision function\n",
    "film_region_proj = np.concatenate(decision_film_region, axis=1)"
   ]
  },
  {
   "cell_type": "markdown",
   "metadata": {},
   "source": [
    "### Evaluation"
   ]
  },
  {
   "cell_type": "code",
   "execution_count": 205,
   "metadata": {},
   "outputs": [
    {
     "name": "stderr",
     "output_type": "stream",
     "text": [
      "/tmp/ipykernel_27685/3989658225.py:3: SettingWithCopyWarning: \n",
      "A value is trying to be set on a copy of a slice from a DataFrame.\n",
      "Try using .loc[row_indexer,col_indexer] = value instead\n",
      "\n",
      "See the caveats in the documentation: https://pandas.pydata.org/pandas-docs/stable/user_guide/indexing.html#returning-a-view-versus-a-copy\n",
      "  film_region_head[\"labels\"] = labels_film_region.tolist()\n"
     ]
    }
   ],
   "source": [
    "# Add a new column with all labels\n",
    "labels_film_region = np.array(labels_film_region).T\n",
    "film_region_head[\"labels\"] = labels_film_region.tolist()"
   ]
  },
  {
   "cell_type": "markdown",
   "metadata": {},
   "source": [
    "### Neighbourhood similarity"
   ]
  },
  {
   "cell_type": "code",
   "execution_count": 207,
   "metadata": {},
   "outputs": [
    {
     "name": "stderr",
     "output_type": "stream",
     "text": [
      "100%|██████████| 1609/1609 [00:15<00:00, 105.91it/s]\n"
     ]
    }
   ],
   "source": [
    "# Global similarity score\n",
    "k=10\n",
    "scores_raw = 0\n",
    "scores_proj = 0\n",
    "for idx in tqdm(film_region_index):\n",
    "    # Choose a ref\n",
    "    ref_proj = film_region_proj[idx,:]\n",
    "    ref_name = film_region_head['Entity'][idx]\n",
    "    # Before projection\n",
    "    ref_entity = scale_film_region_data[idx,:]\n",
    "    closest_entity_raw = closest_neighbours(ref_entity, scale_film_region_data[film_region_index], film_region_head, k)\n",
    "    scores_raw += similarity_score(ref_name, closest_entity_raw, film_region_head, mode=\"all\")\n",
    "\n",
    "    # After projection\n",
    "    closest_entity = closest_neighbours(ref_proj, film_region_proj[film_region_index], film_region_head, k)\n",
    "    scores_proj += similarity_score(ref_name, closest_entity, film_region_head, mode=\"all\")\n",
    "\n",
    "scores_raw /= len(film_region_index)\n",
    "scores_proj /= len(film_region_index)"
   ]
  },
  {
   "cell_type": "code",
   "execution_count": 208,
   "metadata": {},
   "outputs": [
    {
     "name": "stdout",
     "output_type": "stream",
     "text": [
      "The similarity score before projection of the top10 entity is: 0.213\n",
      "The similarity score after projection of the top10 entity is: 0.753\n"
     ]
    }
   ],
   "source": [
    "print(f\"The similarity score before projection of the top{k} entity is: {round(scores_raw,3)}\")\n",
    "print(f\"The similarity score after projection of the top{k} entity is: {round(scores_proj,3)}\")"
   ]
  }
 ],
 "metadata": {
  "kernelspec": {
   "display_name": "kcl",
   "language": "python",
   "name": "python3"
  },
  "language_info": {
   "codemirror_mode": {
    "name": "ipython",
    "version": 3
   },
   "file_extension": ".py",
   "mimetype": "text/x-python",
   "name": "python",
   "nbconvert_exporter": "python",
   "pygments_lexer": "ipython3",
   "version": "3.11.7"
  }
 },
 "nbformat": 4,
 "nbformat_minor": 2
}
